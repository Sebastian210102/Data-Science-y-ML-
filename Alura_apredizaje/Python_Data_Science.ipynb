{
  "nbformat": 4,
  "nbformat_minor": 0,
  "metadata": {
    "colab": {
      "provenance": [],
      "toc_visible": true
    },
    "kernelspec": {
      "name": "python3",
      "display_name": "Python 3"
    },
    "language_info": {
      "name": "python"
    }
  },
  "cells": [
    {
      "cell_type": "markdown",
      "metadata": {
        "id": "view-in-github"
      },
      "source": [
        "<a href=\"https://colab.research.google.com/github/ahcamachod/python-para-datascience-primeros-pasos/blob/main/Python_Data_Science.ipynb\" target=\"_parent\"><img src=\"https://colab.research.google.com/assets/colab-badge.svg\" alt=\"Open In Colab\"/></a>"
      ]
    },
    {
      "cell_type": "markdown",
      "source": [
        "# Python para Data Science\n",
        "\n",
        "Notebook para el curso de Python para Data Science publicado en la plataforma de [Alura Latam](https://www.aluracursos.com/)"
      ],
      "metadata": {
        "id": "lQx6Mmv0OJyT"
      }
    },
    {
      "cell_type": "markdown",
      "source": [
        "# Introducción a Python\n",
        "¡Vamos a conocer Python, nuestro ambiente de estudio, y también generaremos nuestro primer código en este lenguaje!"
      ],
      "metadata": {
        "id": "7SiB6JIpYKmY"
      }
    },
    {
      "cell_type": "markdown",
      "source": [
        "## Google Colaboratory\n",
        "\n",
        "Ya aprendimos qué es [Python](https://www.python.org/) y ahora aprenderemos a usar nuestra herramienta de ejecución [Google Colaboratory](https://colab.research.google.com/) para programar en un notebook interactivo.\n",
        "\n",
        "Vamos a probar algunas funciones de este ambiente."
      ],
      "metadata": {
        "id": "Yugfb3fCOYY9"
      }
    },
    {
      "cell_type": "markdown",
      "source": [
        " **`>>> Usa esta celda para mover <<<`**"
      ],
      "metadata": {
        "id": "2iUHQsJasJAk"
      }
    },
    {
      "cell_type": "markdown",
      "source": [
        "## ¡Hola mundo!\n",
        "\n",
        "Vamos a conocer un poco más de cerca nuestro notebook. Para ello ejecutaremos nuestro primer comando en Python: [`print()`](https://docs.python.org/3/library/functions.html#print)"
      ],
      "metadata": {
        "id": "aLSFP2V7XTfe"
      }
    },
    {
      "cell_type": "markdown",
      "source": [],
      "metadata": {
        "id": "y0uziUfmVUs9"
      }
    },
    {
      "cell_type": "code",
      "source": [
        "print(\"Hello World!!\")"
      ],
      "metadata": {
        "id": "0qZX8_ZQBYyk",
        "colab": {
          "base_uri": "https://localhost:8080/"
        },
        "outputId": "a20f1fa4-604a-4fd8-f44f-10d9f8d22bc4"
      },
      "execution_count": null,
      "outputs": [
        {
          "output_type": "stream",
          "name": "stdout",
          "text": [
            "Hello World!!\n"
          ]
        }
      ]
    },
    {
      "cell_type": "code",
      "source": [
        "print(\"Mi nombre es Sebastian y tengo 23 años\")"
      ],
      "metadata": {
        "id": "GLMzF_AKBY7a",
        "colab": {
          "base_uri": "https://localhost:8080/"
        },
        "outputId": "a9b5f84a-830d-4474-8ca3-a6337064269e"
      },
      "execution_count": null,
      "outputs": [
        {
          "output_type": "stream",
          "name": "stdout",
          "text": [
            "Mi nombre es Sebastian y tengo 23 años\n"
          ]
        }
      ]
    },
    {
      "cell_type": "code",
      "source": [
        "print(\"Escuela de Datos Alura\")"
      ],
      "metadata": {
        "colab": {
          "base_uri": "https://localhost:8080/"
        },
        "id": "8JV-byY-WAzJ",
        "outputId": "7e1b0a93-c499-4be1-e4fc-ce4087994aca"
      },
      "execution_count": null,
      "outputs": [
        {
          "output_type": "stream",
          "name": "stdout",
          "text": [
            "Escuela de Datos Alura\n"
          ]
        }
      ]
    },
    {
      "cell_type": "code",
      "source": [
        "print(\"Nombre: Sebastian\")\n",
        "print(\"Edad: 23\")\n",
        "print(\"Escuela: Alura\")"
      ],
      "metadata": {
        "colab": {
          "base_uri": "https://localhost:8080/"
        },
        "id": "aGuZI8ykWGJf",
        "outputId": "2747d480-c39c-4c54-955a-4d394dc7007e"
      },
      "execution_count": null,
      "outputs": [
        {
          "output_type": "stream",
          "name": "stdout",
          "text": [
            "Nombre: Sebastian\n",
            "Edad: 23\n",
            "Escuela: Alura\n"
          ]
        }
      ]
    },
    {
      "cell_type": "markdown",
      "source": [
        "# Manipulando los datos\n",
        "\n",
        "Vamos a aprender sobre las variables en Python, cómo declararlas y utilizarlas además de conocer otros comandos de este lenguaje. :D"
      ],
      "metadata": {
        "id": "iP8uWQmFYFRs"
      }
    },
    {
      "cell_type": "markdown",
      "source": [
        "## Variables\n",
        "\n",
        "En Data Science trabajamos con varios tipos de datos e informaciones, entonces es esencial saber cómo trabajar con las variables."
      ],
      "metadata": {
        "id": "sLNVmnTbag1Z"
      }
    },
    {
      "cell_type": "markdown",
      "source": [
        "Las variables en Python se crean cuando atribuimos un valor a ella.\n",
        "\n",
        "Para esto, colocamos el nombre de la variable, el signo de igual (`=`) y el valor que queremos atribuirle."
      ],
      "metadata": {
        "id": "lsCY0wahAbf6"
      }
    },
    {
      "cell_type": "code",
      "source": [
        "5\n",
        "id(5)"
      ],
      "metadata": {
        "id": "vsHh5buZADND",
        "colab": {
          "base_uri": "https://localhost:8080/"
        },
        "outputId": "3376df8e-221e-4da0-d2c1-f717741a7c74"
      },
      "execution_count": null,
      "outputs": [
        {
          "output_type": "execute_result",
          "data": {
            "text/plain": [
              "10750984"
            ]
          },
          "metadata": {},
          "execution_count": 6
        }
      ]
    },
    {
      "cell_type": "code",
      "source": [
        "edad =  5\n",
        "\n",
        "print(id(edad))\n",
        "print(id(5))"
      ],
      "metadata": {
        "id": "sivPtqSjADQV",
        "colab": {
          "base_uri": "https://localhost:8080/"
        },
        "outputId": "830c552e-13ce-4a21-802d-948384d9499e"
      },
      "execution_count": null,
      "outputs": [
        {
          "output_type": "stream",
          "name": "stdout",
          "text": [
            "10750984\n",
            "10750984\n"
          ]
        }
      ]
    },
    {
      "cell_type": "code",
      "source": [
        "numero_cinco = 5\n",
        "\n",
        "id(numero_cinco)"
      ],
      "metadata": {
        "id": "JC8jO47wADlm",
        "colab": {
          "base_uri": "https://localhost:8080/"
        },
        "outputId": "dd27a0c0-f256-4e9b-e40c-a7d00df20764"
      },
      "execution_count": null,
      "outputs": [
        {
          "output_type": "execute_result",
          "data": {
            "text/plain": [
              "10750984"
            ]
          },
          "metadata": {},
          "execution_count": 10
        }
      ]
    },
    {
      "cell_type": "code",
      "source": [
        "nombre = \"Sebastian\"\n",
        "id(nombre)"
      ],
      "metadata": {
        "colab": {
          "base_uri": "https://localhost:8080/"
        },
        "id": "6DpEtYVMXy-T",
        "outputId": "5013d156-245d-47a8-b1b8-16c7d78d8b6c"
      },
      "execution_count": null,
      "outputs": [
        {
          "output_type": "execute_result",
          "data": {
            "text/plain": [
              "137124361532336"
            ]
          },
          "metadata": {},
          "execution_count": 11
        }
      ]
    },
    {
      "cell_type": "markdown",
      "source": [
        "Existen algunos tipos de nomes que **no** podemos definir para las variables:\n",
        "\n",
        "- **Nombres que comiencen con números**\n",
        "  - Ejemplos: `10_notas`, `2_nombre_casa`, etc.\n",
        "- **Palabras separadas por espacio**\n",
        "  - Ejemplos: `Nombre escuela`, `notas estudiantes`, etc.\n",
        "- **Nombres de funciones de Python**\n",
        "  - Ejemplos: `print`, `type`, etc."
      ],
      "metadata": {
        "id": "om2N0jHKAzwL"
      }
    },
    {
      "cell_type": "markdown",
      "source": [
        "> Las letras mayúsculas y minúsculas generarán diferentes variables. La variable `edad` es diferente de `Edad` que a su vez es diferente de `EDAD`:\n",
        "``` Python\n",
        "edad = 1\n",
        "Edad = 2\n",
        "EDAD = 3\n",
        "_edad = 4\n",
        "_edad_ = 5\n",
        "print(edad, Edad, EDAD, _edad, _edad_)\n",
        "1 2 3 4 5\n",
        "```"
      ],
      "metadata": {
        "id": "A19vY2GVMujB"
      }
    },
    {
      "cell_type": "markdown",
      "source": [
        "## Tipos de variables\n",
        "\n",
        "Cada variable contiene una clase específica con respecto al tipo de objeto al cual esta hace referencia. Estas clases serán diferentes de acuerdo con el tipo de dato que le sea atribuido a una variable.\n",
        "\n",
        "Para conocer la clase de cada elemento usamos la función [`type()`](https://docs.python.org/3/library/functions.html#type)"
      ],
      "metadata": {
        "id": "UqhzuBhBHsps"
      }
    },
    {
      "cell_type": "code",
      "source": [
        "#Entera\n",
        "edad = 5\n",
        "type(edad)"
      ],
      "metadata": {
        "id": "J5a9t73A_-PX",
        "colab": {
          "base_uri": "https://localhost:8080/"
        },
        "outputId": "89e651e9-6fd8-46de-8901-bda047bc7c3d"
      },
      "execution_count": null,
      "outputs": [
        {
          "output_type": "execute_result",
          "data": {
            "text/plain": [
              "int"
            ]
          },
          "metadata": {},
          "execution_count": 12
        }
      ]
    },
    {
      "cell_type": "code",
      "source": [
        "#Float\n",
        "promedio = 9.5\n",
        "type(promedio)"
      ],
      "metadata": {
        "id": "rqmO1ew-_-So",
        "colab": {
          "base_uri": "https://localhost:8080/"
        },
        "outputId": "07f4032a-42e8-48f9-99ff-1d82dc2fd7ea"
      },
      "execution_count": null,
      "outputs": [
        {
          "output_type": "execute_result",
          "data": {
            "text/plain": [
              "float"
            ]
          },
          "metadata": {},
          "execution_count": 13
        }
      ]
    },
    {
      "cell_type": "code",
      "source": [
        "#Caracteres\n",
        "nombre = \"Sebastian\"\n",
        "type(nombre)"
      ],
      "metadata": {
        "id": "xkrPMkeY_-cP",
        "colab": {
          "base_uri": "https://localhost:8080/"
        },
        "outputId": "c0440a58-fc9c-4159-a87a-59a783abae5c"
      },
      "execution_count": null,
      "outputs": [
        {
          "output_type": "execute_result",
          "data": {
            "text/plain": [
              "str"
            ]
          },
          "metadata": {},
          "execution_count": 14
        }
      ]
    },
    {
      "cell_type": "code",
      "source": [
        "#Bool\n",
        "v = True\n",
        "type(v)"
      ],
      "metadata": {
        "colab": {
          "base_uri": "https://localhost:8080/"
        },
        "id": "exgRBBw0Y0MX",
        "outputId": "0e4c4f4c-9ae5-4377-86f7-96bca8829a3c"
      },
      "execution_count": null,
      "outputs": [
        {
          "output_type": "execute_result",
          "data": {
            "text/plain": [
              "bool"
            ]
          },
          "metadata": {},
          "execution_count": 16
        }
      ]
    },
    {
      "cell_type": "markdown",
      "source": [
        "En un conjunto de datos escolares podemos tener varios tipos de informaciones. Supongamos que tenemos acceso a la ficha de datos del alumno *Penélope Camacho*, cómo transformamos este nombre en variables de Python?\n",
        "\n",
        "#### Ficha:\n",
        "\n",
        "- Nombre: Penélope Camacho\n",
        "- Edad: 11 años\n",
        "- Promedio del semestre: 9,75\n",
        "- Situación de aprobación: Verdadera (aprobado)"
      ],
      "metadata": {
        "id": "O-FxDumfWu0C"
      }
    },
    {
      "cell_type": "code",
      "source": [
        "nombre_estudiante = 'Penelope Camacho'\n",
        "edad_estudiante = 11\n",
        "promedio_estudiante = 9.75\n",
        "aprobado_estudiante = True\n",
        "\n",
        "print(nombre_estudiante, edad_estudiante, promedio_estudiante, aprobado_estudiante)"
      ],
      "metadata": {
        "id": "FabQ7jQf_8Xt",
        "colab": {
          "base_uri": "https://localhost:8080/"
        },
        "outputId": "733542b3-de4f-4f87-f693-945766b13b09"
      },
      "execution_count": null,
      "outputs": [
        {
          "output_type": "stream",
          "name": "stdout",
          "text": [
            "Penelope Camacho 11 9.75 True\n"
          ]
        }
      ]
    },
    {
      "cell_type": "code",
      "source": [],
      "metadata": {
        "id": "IZLQnZUj_8bd"
      },
      "execution_count": null,
      "outputs": []
    },
    {
      "cell_type": "markdown",
      "source": [
        "## Variables numéricas\n",
        "\n",
        "Entre los tipos de datos numéricos vamos a enfocarnos en los tipos `entero` y `float`."
      ],
      "metadata": {
        "id": "KFq_8Sxf-OG0"
      }
    },
    {
      "cell_type": "markdown",
      "source": [
        "Tenemos una tabla de información sobre los diversos cargos, cantidad de personas empleadas y el salario correspondiente:\n",
        "\n",
        "|Cargo | Cantidad | Salario|\n",
        "|---|---|---|\n",
        "|Vigilante | 5 | 300 |\n",
        "|Docente | 16| 500|\n",
        "|Coordinador| 2 |600|\n",
        "\n",
        "Necesitamos trabajar con estos datos para obtener:\n",
        "\n",
        "- La cantidad total de empleados;\n",
        "- La diferencia entre el salario más bajo y más alto; y\n",
        "- El promedio ponderado de los salarios de los empleados de la escuela."
      ],
      "metadata": {
        "id": "8_HYUbkVYdQY"
      }
    },
    {
      "cell_type": "code",
      "source": [
        "c_vigilante = 5\n",
        "c_docente = 16\n",
        "c_coordinador = 2\n",
        "\n",
        "s_vigilante = 300\n",
        "s_docente = 500\n",
        "s_coordinador = 600"
      ],
      "metadata": {
        "id": "F_X-wxdm_5Ys"
      },
      "execution_count": null,
      "outputs": []
    },
    {
      "cell_type": "code",
      "source": [
        "total_empleados = c_vigilante + c_docente + c_coordinador\n",
        "total_empleados"
      ],
      "metadata": {
        "id": "gKmBbhII_5b9",
        "colab": {
          "base_uri": "https://localhost:8080/"
        },
        "outputId": "13c34484-57f2-4f5c-914d-47fea613ade8"
      },
      "execution_count": null,
      "outputs": [
        {
          "output_type": "execute_result",
          "data": {
            "text/plain": [
              "23"
            ]
          },
          "metadata": {},
          "execution_count": 19
        }
      ]
    },
    {
      "cell_type": "code",
      "source": [
        "diferencia_salarios = s_coordinador - s_vigilante\n",
        "diferencia_salarios"
      ],
      "metadata": {
        "id": "fIugsxNy_53j",
        "colab": {
          "base_uri": "https://localhost:8080/"
        },
        "outputId": "a6c290a7-148c-4046-e596-5a3704a66373"
      },
      "execution_count": null,
      "outputs": [
        {
          "output_type": "execute_result",
          "data": {
            "text/plain": [
              "300"
            ]
          },
          "metadata": {},
          "execution_count": 20
        }
      ]
    },
    {
      "cell_type": "code",
      "source": [
        "promedio_salarios = (c_vigilante * s_vigilante + c_docente * s_docente +\n",
        "                     c_coordinador * s_coordinador) / (total_empleados)\n",
        "promedio_salarios"
      ],
      "metadata": {
        "colab": {
          "base_uri": "https://localhost:8080/"
        },
        "id": "yf862UPHaGDb",
        "outputId": "4fdb2602-aca8-4561-a518-efbb92ca340d"
      },
      "execution_count": null,
      "outputs": [
        {
          "output_type": "execute_result",
          "data": {
            "text/plain": [
              "465.2173913043478"
            ]
          },
          "metadata": {},
          "execution_count": 24
        }
      ]
    },
    {
      "cell_type": "markdown",
      "source": [
        "## Strings"
      ],
      "metadata": {
        "id": "yQy7b0ZWoD-P"
      }
    },
    {
      "cell_type": "markdown",
      "source": [
        "Strings hace referencia a un conjunto de caracteres formando un texto.\n",
        "\n",
        "Podemos crear Strings cuando atribuimos un dato a una variable entre comillas sencillas (`'`) o comillas dobles (`\"`)."
      ],
      "metadata": {
        "id": "vlo2-DXusv3s"
      }
    },
    {
      "cell_type": "code",
      "source": [
        "t = 'Alura'\n",
        "type(t)"
      ],
      "metadata": {
        "id": "ityEWqvh_2wK",
        "colab": {
          "base_uri": "https://localhost:8080/"
        },
        "outputId": "98413af5-f22c-4608-93e0-3eea8cad1df9"
      },
      "execution_count": null,
      "outputs": [
        {
          "output_type": "execute_result",
          "data": {
            "text/plain": [
              "str"
            ]
          },
          "metadata": {},
          "execution_count": 25
        }
      ]
    },
    {
      "cell_type": "markdown",
      "source": [
        "Las variables textuales son objetos que poseen métodos que nos ayudan a formatear strings. Los métodos los podemos ejecutar al definir un objeto de acuerdo con la siguiente estructura:\n",
        "\n",
        "```\n",
        "objeto.metodo()\n",
        "```\n",
        "\n",
        "Existen métodos que no necesitan los `()`, siempre es una buena práctica verificar la documentación para cada caso."
      ],
      "metadata": {
        "id": "2e9UD_CCxqz_"
      }
    },
    {
      "cell_type": "markdown",
      "source": [
        "---\n",
        "**Situación:**\n",
        "\n",
        "Recibimos una variable con el nombre de una profesora de la escuela para añadirla a los registros. Sin embargo, necesitamos darle un tratamiento a este texto antes de insertarlo al sistema."
      ],
      "metadata": {
        "id": "p6aPmMGP4tf9"
      }
    },
    {
      "cell_type": "code",
      "source": [
        "texto = '  Micaela de los Sanyos '\n",
        "id(texto)"
      ],
      "metadata": {
        "id": "icDWtYTjBO0n",
        "colab": {
          "base_uri": "https://localhost:8080/"
        },
        "outputId": "3d37ed8a-b257-4745-ed80-ae7380f51c5a"
      },
      "execution_count": null,
      "outputs": [
        {
          "output_type": "execute_result",
          "data": {
            "text/plain": [
              "137124038563184"
            ]
          },
          "metadata": {},
          "execution_count": 26
        }
      ]
    },
    {
      "cell_type": "markdown",
      "source": [
        "El objetivo final es que el nombre aparezca de la siguiente forma:\n",
        "\n",
        "```\n",
        "'MICAELA DE LOS SANTOS'\n",
        "```"
      ],
      "metadata": {
        "id": "Dg2ZXSZOGzjC"
      }
    },
    {
      "cell_type": "markdown",
      "source": [
        "### [`str.upper()` ](https://docs.python.org/3/library/stdtypes.html#str.upper)\n",
        "Convierte una string a mayúsculas."
      ],
      "metadata": {
        "id": "iVTAD8q702eN"
      }
    },
    {
      "cell_type": "code",
      "source": [
        "texto.upper()"
      ],
      "metadata": {
        "id": "wMVshJrY_ZXh",
        "colab": {
          "base_uri": "https://localhost:8080/",
          "height": 36
        },
        "outputId": "ce6f7a3e-6561-4ba4-8c7b-9aa2ca63f9cb"
      },
      "execution_count": null,
      "outputs": [
        {
          "output_type": "execute_result",
          "data": {
            "text/plain": [
              "'  MICAELA DE LOS SANYOS '"
            ],
            "application/vnd.google.colaboratory.intrinsic+json": {
              "type": "string"
            }
          },
          "metadata": {},
          "execution_count": 29
        }
      ]
    },
    {
      "cell_type": "markdown",
      "source": [
        "### [`str.lower()`](https://docs.python.org/3/library/stdtypes.html#str.lower)\n",
        "Convierte una string a minúsculas."
      ],
      "metadata": {
        "id": "hbDSBtMV1TpG"
      }
    },
    {
      "cell_type": "code",
      "source": [
        "texto.lower()"
      ],
      "metadata": {
        "id": "px3yEeNH_YK4",
        "colab": {
          "base_uri": "https://localhost:8080/",
          "height": 36
        },
        "outputId": "a0da278a-0eed-4ab8-e14e-79b4afd1ad41"
      },
      "execution_count": null,
      "outputs": [
        {
          "output_type": "execute_result",
          "data": {
            "text/plain": [
              "'  micaela de los sanyos '"
            ],
            "application/vnd.google.colaboratory.intrinsic+json": {
              "type": "string"
            }
          },
          "metadata": {},
          "execution_count": 30
        }
      ]
    },
    {
      "cell_type": "markdown",
      "source": [
        "### [`str.strip()`](https://docs.python.org/3/library/stdtypes.html#str.strip)\n",
        "Elimina los espacios en blanco al inicio y al final de una string."
      ],
      "metadata": {
        "id": "kz47eWM11gii"
      }
    },
    {
      "cell_type": "code",
      "source": [
        "texto.strip()"
      ],
      "metadata": {
        "id": "76dLgNa4_XAe",
        "colab": {
          "base_uri": "https://localhost:8080/",
          "height": 36
        },
        "outputId": "dcd894eb-0eeb-4c8c-913b-096c21437ed2"
      },
      "execution_count": null,
      "outputs": [
        {
          "output_type": "execute_result",
          "data": {
            "text/plain": [
              "'Micaela de los Sanyos'"
            ],
            "application/vnd.google.colaboratory.intrinsic+json": {
              "type": "string"
            }
          },
          "metadata": {},
          "execution_count": 31
        }
      ]
    },
    {
      "cell_type": "markdown",
      "source": [
        "### [`str.replace(antiguo, nuevo)`](https://docs.python.org/3/library/stdtypes.html#str.replace)\n",
        "\n",
        "Sustituye todas las ocurrencias del texto \"antiguo\" en la string por el  \"nuevo\"."
      ],
      "metadata": {
        "id": "m6notiyS1SCV"
      }
    },
    {
      "cell_type": "code",
      "source": [
        "texto.replace('y', 't')"
      ],
      "metadata": {
        "id": "PNXAixtE_V6R",
        "colab": {
          "base_uri": "https://localhost:8080/",
          "height": 36
        },
        "outputId": "856da30d-9dde-4334-dbe0-41455bb0d40a"
      },
      "execution_count": null,
      "outputs": [
        {
          "output_type": "execute_result",
          "data": {
            "text/plain": [
              "'  Micaela de los Santos '"
            ],
            "application/vnd.google.colaboratory.intrinsic+json": {
              "type": "string"
            }
          },
          "metadata": {},
          "execution_count": 32
        }
      ]
    },
    {
      "cell_type": "code",
      "source": [],
      "metadata": {
        "id": "KzvFa9f4dyFB"
      },
      "execution_count": null,
      "outputs": []
    },
    {
      "cell_type": "markdown",
      "source": [
        "### Observaciones\n",
        "\n",
        "1. Los métodos devuelven una **tranformación**, no son ejecutados directamente sobre la variable donde está almacenado el texto.\n",
        "\n",
        "2. Adicionalmente, podemos acumular la ejecución de los métodos."
      ],
      "metadata": {
        "id": "zukvEjhG2Rcn"
      }
    },
    {
      "cell_type": "markdown",
      "source": [
        "Para que la transformación se pueda ejecutar debemos atribuir la salida de las transformaciones a las variables"
      ],
      "metadata": {
        "id": "1KbwfVut2h6I"
      }
    },
    {
      "cell_type": "code",
      "source": [
        "nuevo_texto = texto.strip().replace('y', 't').upper()\n",
        "print(id(texto))\n",
        "print(id(nuevo_texto))\n",
        "nuevo_texto"
      ],
      "metadata": {
        "id": "ocPP-Jaj_SJI",
        "colab": {
          "base_uri": "https://localhost:8080/",
          "height": 70
        },
        "outputId": "98fa61f6-6ec4-4629-e742-52d46cab5820"
      },
      "execution_count": null,
      "outputs": [
        {
          "output_type": "stream",
          "name": "stdout",
          "text": [
            "137124038563184\n",
            "137124039116880\n"
          ]
        },
        {
          "output_type": "execute_result",
          "data": {
            "text/plain": [
              "'MICAELA DE LOS SANTOS'"
            ],
            "application/vnd.google.colaboratory.intrinsic+json": {
              "type": "string"
            }
          },
          "metadata": {},
          "execution_count": 34
        }
      ]
    },
    {
      "cell_type": "code",
      "source": [],
      "metadata": {
        "id": "m1RvLGZZ_SP3"
      },
      "execution_count": null,
      "outputs": []
    },
    {
      "cell_type": "markdown",
      "source": [
        "## Capturando datos\n",
        "\n",
        "En algunas aplicaciones necesitamos capturar los valores del usuario de nuestro proyecto. En python, logramos capturar los datos del usuario a través del comando [`input()`](https://docs.python.org/3/library/functions.html#input).\n",
        "\n",
        "Para ejecutar la captura debemos atribuir el resultado de esta función a una variable."
      ],
      "metadata": {
        "id": "0h9Fh5G9kHCa"
      }
    },
    {
      "cell_type": "code",
      "source": [
        "nombre = input('¿Cuál es tu nombre? ')\n"
      ],
      "metadata": {
        "id": "zbH_9i3q_PdY",
        "colab": {
          "base_uri": "https://localhost:8080/"
        },
        "outputId": "ac1daefb-4fad-433a-bb36-a4a4abc52b02"
      },
      "execution_count": null,
      "outputs": [
        {
          "name": "stdout",
          "output_type": "stream",
          "text": [
            "¿Cuál es tu nombre? Sebastian\n"
          ]
        }
      ]
    },
    {
      "cell_type": "code",
      "source": [
        "type(nombre)"
      ],
      "metadata": {
        "id": "JZy1Q9Tl_PgL",
        "colab": {
          "base_uri": "https://localhost:8080/"
        },
        "outputId": "906042f6-3589-4b7b-f672-442b3dc12f49"
      },
      "execution_count": null,
      "outputs": [
        {
          "output_type": "execute_result",
          "data": {
            "text/plain": [
              "str"
            ]
          },
          "metadata": {},
          "execution_count": 36
        }
      ]
    },
    {
      "cell_type": "markdown",
      "source": [
        "La salida de este comando siempre será una *string*. Esto quiere decir que aunque capturemos un valor de variable numérica, este será de tipo string.\n",
        "\n",
        "Entonces, será necesario **convertir el resultado cuando no se desea utilizar el valor como tipo string**."
      ],
      "metadata": {
        "id": "7z7hcLCk_aCY"
      }
    },
    {
      "cell_type": "markdown",
      "source": [
        "Existen funciones para la conversión de valores:\n",
        "\n",
        "- Enteros: [`int(dato_para_conversion)`](https://docs.python.org/3/library/functions.html#int)\n",
        "- Coma flotante: [`float(dato_para_conversion)`](https://docs.python.org/3/library/functions.html#float)\n",
        "- String: [`str(dato_para_conversion)`](https://docs.python.org/3/library/functions.html#func-str)\n",
        "- Booleano: [`bool(dato_para_conversion)`](https://docs.python.org/3/library/functions.html#bool)"
      ],
      "metadata": {
        "id": "TOlegATj1Jfp"
      }
    },
    {
      "cell_type": "code",
      "source": [
        "ano_admision = int(input(\"Digita el año de admision: \"))"
      ],
      "metadata": {
        "id": "M2ueeH6l_NMe",
        "colab": {
          "base_uri": "https://localhost:8080/"
        },
        "outputId": "9b1fb5b5-113e-40b0-9182-4be90675936e"
      },
      "execution_count": null,
      "outputs": [
        {
          "name": "stdout",
          "output_type": "stream",
          "text": [
            "Digita el año de admision: 2024\n"
          ]
        }
      ]
    },
    {
      "cell_type": "code",
      "source": [
        "type(ano_admision)"
      ],
      "metadata": {
        "id": "xfWwuViK_NUn",
        "colab": {
          "base_uri": "https://localhost:8080/"
        },
        "outputId": "40a47b42-d047-4e60-a67c-97b5df1e3c21"
      },
      "execution_count": null,
      "outputs": [
        {
          "output_type": "execute_result",
          "data": {
            "text/plain": [
              "str"
            ]
          },
          "metadata": {},
          "execution_count": 40
        }
      ]
    },
    {
      "cell_type": "code",
      "source": [
        "ano_salida = int(input(\"Digita el año de salida: \"))"
      ],
      "metadata": {
        "id": "uFCHDyew_NZm",
        "colab": {
          "base_uri": "https://localhost:8080/"
        },
        "outputId": "c079c772-7a63-43f4-b711-8cebf2a394cb"
      },
      "execution_count": null,
      "outputs": [
        {
          "name": "stdout",
          "output_type": "stream",
          "text": [
            "Digita el año de salida: 2025\n"
          ]
        }
      ]
    },
    {
      "cell_type": "code",
      "source": [
        "nota_admision = float(input(\"Digita tu nota de admision: \"))"
      ],
      "metadata": {
        "colab": {
          "base_uri": "https://localhost:8080/"
        },
        "id": "iGemRClygQTH",
        "outputId": "c084fb57-e92d-47bc-a9c1-034efe412bbd"
      },
      "execution_count": null,
      "outputs": [
        {
          "name": "stdout",
          "output_type": "stream",
          "text": [
            "Digita tu nota de admision: 9.75\n"
          ]
        }
      ]
    },
    {
      "cell_type": "markdown",
      "source": [
        "Trataremos de representar mejor ahora el resultado de la transformación que obtuvimos. Nosotros podemos formatear y presentar nuestro resultado mezclando strings con valores no textuales.\n",
        "\n",
        "Para ello utilizamos la estructura de formatación `f` con strings."
      ],
      "metadata": {
        "id": "yNI2-XTbB3aS"
      }
    },
    {
      "cell_type": "code",
      "source": [
        "print(f'El año de adimision fue {ano_admision} \\nLa nota de amision fue: {nota_admision}')"
      ],
      "metadata": {
        "id": "keJjA5N9_K5i",
        "colab": {
          "base_uri": "https://localhost:8080/"
        },
        "outputId": "86909cc5-5e59-4d6c-ee72-39cfd694dc64"
      },
      "execution_count": null,
      "outputs": [
        {
          "output_type": "stream",
          "name": "stdout",
          "text": [
            "El año de adimision fue 2024 \n",
            "La nota de amision fue: 9.75\n"
          ]
        }
      ]
    },
    {
      "cell_type": "markdown",
      "source": [],
      "metadata": {
        "id": "XOqG1lkKgk9_"
      }
    },
    {
      "cell_type": "markdown",
      "source": [
        "# Estructuras condicionales"
      ],
      "metadata": {
        "id": "NwRaiHHHhhyl"
      }
    },
    {
      "cell_type": "code",
      "source": [
        "# Nota de aprobacion entre 7 y 10\n",
        "# Nota de reprobacion es menor a 7\n",
        "\n",
        "\"\"\"\n",
        "Si la nota es mayor igual a 7 entonces el estudiante aprueba\n",
        "Si no el estudiante reprueba\n",
        "\"\"\""
      ],
      "metadata": {
        "id": "pa4gLncu-mvU",
        "colab": {
          "base_uri": "https://localhost:8080/",
          "height": 53
        },
        "outputId": "0fb30225-6a27-45cf-94e6-08bc3a86fec3"
      },
      "execution_count": null,
      "outputs": [
        {
          "output_type": "execute_result",
          "data": {
            "text/plain": [
              "'\\nSi la nota es mayor igual a 7 entonces el estudiante aprueba\\nSi no el estudiante reprueba \\n'"
            ],
            "application/vnd.google.colaboratory.intrinsic+json": {
              "type": "string"
            }
          },
          "metadata": {},
          "execution_count": 49
        }
      ]
    },
    {
      "cell_type": "code",
      "source": [],
      "metadata": {
        "id": "_cWRmDiE-m4p"
      },
      "execution_count": null,
      "outputs": []
    },
    {
      "cell_type": "markdown",
      "source": [
        "## `IF` y `ELSE`\n",
        "\n",
        "Los comandos `if` y `else` son dos estructuras condicionales. El comando `if` ejecutará el bloque de comandos en caso de que la condición citada sea  **verdadera**. El comando `else` ejecutará el bloque de comandos en el caso de que la condicional de `if` sea **falsa**."
      ],
      "metadata": {
        "id": "qXZqg9aYEhAh"
      }
    },
    {
      "cell_type": "markdown",
      "source": [
        "El comando `if` es una palabra clave en Python que significa \"si\". Este se emplea para conformar la estructura condicional, que te permite verificar si una determinada condición es verdadera o falsa e, inmediatamente después, ejecute un bloque de código específico dependiendo del resultado de la verificación. La sintaxis para usar el comando `if` es:\n",
        "\n",
        "\n",
        "\n",
        "```\n",
        "if condicion:\n",
        "    # Realiza algo\n",
        "```\n",
        "\n"
      ],
      "metadata": {
        "id": "EIhlqHXd2Gil"
      }
    },
    {
      "cell_type": "code",
      "source": [
        "if 2 < 7:\n",
        "  print(\"La condicion es verdadera\")\n"
      ],
      "metadata": {
        "id": "S2S6XAFz-czM",
        "colab": {
          "base_uri": "https://localhost:8080/"
        },
        "outputId": "84681f7f-1119-464d-afa3-fa383bcc21da"
      },
      "execution_count": null,
      "outputs": [
        {
          "output_type": "stream",
          "name": "stdout",
          "text": [
            "La condicion es verdadera\n"
          ]
        }
      ]
    },
    {
      "cell_type": "code",
      "source": [
        "if 2 > 7:\n",
        "  print(\"La condicion es verdadera\")\n",
        "print(\"Fin de la consulta\")\n"
      ],
      "metadata": {
        "id": "YHkwMMyY-c1r",
        "colab": {
          "base_uri": "https://localhost:8080/"
        },
        "outputId": "f8917d96-373b-411f-9b10-4144f6f17ba0"
      },
      "execution_count": null,
      "outputs": [
        {
          "output_type": "stream",
          "name": "stdout",
          "text": [
            "Fin de la consulta\n"
          ]
        }
      ]
    },
    {
      "cell_type": "markdown",
      "source": [
        "Ya el comando `else` en Python se usa en junción con la palabra clave `if` para formar una estructura condicional. la sintaxis para usar el `else` es:\n",
        "\n",
        "```\n",
        "if condicion:\n",
        "  # codigo en caso de que sea verdad\n",
        "else:\n",
        "  # codigo en caso de que sea falso\n",
        "```\n",
        "\n",
        "el comando `else` se ejecuta cuando la condición verificada por el `if` es evaluada como `False`."
      ],
      "metadata": {
        "id": "27RW2v_sIKct"
      }
    },
    {
      "cell_type": "code",
      "source": [
        "if 2 > 7:\n",
        "  print(\"La condicion es verdadera\")\n",
        "else:\n",
        "  print(\"La condicion es falsa\")\n",
        "print(\"Fin de la consulta\")"
      ],
      "metadata": {
        "id": "ZTfNJd_f-aOq",
        "colab": {
          "base_uri": "https://localhost:8080/"
        },
        "outputId": "2b10ac88-4eea-4652-eb34-6201881e4404"
      },
      "execution_count": null,
      "outputs": [
        {
          "output_type": "stream",
          "name": "stdout",
          "text": [
            "La condicion es falsa\n",
            "Fin de la consulta\n"
          ]
        }
      ]
    },
    {
      "cell_type": "code",
      "source": [],
      "metadata": {
        "id": "LPOb5MkV-btq"
      },
      "execution_count": null,
      "outputs": []
    },
    {
      "cell_type": "markdown",
      "source": [
        "---\n",
        "**Situación:**\n",
        "\n",
        "Recibiremos el promedio de la nota de los estudiantes y necesitamos de un algoritmo que ejecute el análisis y determine si el estudiante fue **Aprobado** o **Reprobado**, mostrando un mensaje del resultado. Para ser aprobado, el promedio necesita ser igual o superior a 7.0."
      ],
      "metadata": {
        "id": "BqORg85XX-Nl"
      }
    },
    {
      "cell_type": "code",
      "source": [
        "nota = float(input(\"Digite la nota: \"))\n",
        "if nota >= 7.0:\n",
        "  print(\"El estudiante fue aprobado\")\n",
        "else:\n",
        "  print(\"El estudiante fue reprobado\")"
      ],
      "metadata": {
        "id": "UukCN4AQ-YYW",
        "colab": {
          "base_uri": "https://localhost:8080/"
        },
        "outputId": "fc370d79-2bc6-4b40-f5a3-54a65406e2a5"
      },
      "execution_count": null,
      "outputs": [
        {
          "output_type": "stream",
          "name": "stdout",
          "text": [
            "Digite la nota: 6\n",
            "El estudiante fue reprobado\n"
          ]
        }
      ]
    },
    {
      "cell_type": "code",
      "source": [],
      "metadata": {
        "id": "X0o8FW1H-YkA"
      },
      "execution_count": null,
      "outputs": []
    },
    {
      "cell_type": "markdown",
      "source": [
        "Ahora, nuestra institución educativa estableció que las personas que tengan el promedio entre 5.0 y 7.0 pueden participar del curso de **Recuperación** durante las vacaciones para lograr aprobar.\n",
        "\n",
        "Entonces podemos apoyarnos en un conjunto de `if`s para poder estructurar esta nueva condición."
      ],
      "metadata": {
        "id": "bD9O17HB6LUo"
      }
    },
    {
      "cell_type": "code",
      "source": [
        "nota = float(input(\"Digite la nota: \"))\n",
        "if nota >= 7.0:\n",
        "  print(\"El estudiante fue aprobado\")\n",
        "if 7 > nota >= 5:\n",
        "  print(\"El estudiante Va a recuperacion\")\n",
        "else:\n",
        "  print(\"El estudiante fue reprobado\")"
      ],
      "metadata": {
        "id": "G9cJ5O9--W52",
        "colab": {
          "base_uri": "https://localhost:8080/"
        },
        "outputId": "8eb16ecd-5120-42f4-e109-d1fe0046c577"
      },
      "execution_count": null,
      "outputs": [
        {
          "output_type": "stream",
          "name": "stdout",
          "text": [
            "Digite la nota: 8\n",
            "El estudiante fue aprobado\n"
          ]
        }
      ]
    },
    {
      "cell_type": "code",
      "source": [
        "8"
      ],
      "metadata": {
        "id": "iU-pjoJt-W89",
        "colab": {
          "base_uri": "https://localhost:8080/"
        },
        "outputId": "6f8f1f64-8009-49f0-f3f7-1c77313add16"
      },
      "execution_count": null,
      "outputs": [
        {
          "output_type": "execute_result",
          "data": {
            "text/plain": [
              "8"
            ]
          },
          "metadata": {},
          "execution_count": 9
        }
      ]
    },
    {
      "cell_type": "markdown",
      "source": [
        "Observa que en casos con 3 situaciones como este necesitamos definir bien nuestras condiciones. Pues, si realizamos una condición con `else` al final, este irá a considerar solamente la condición `if` inmediatamente anterior para generar la salida en caso de que el resultado de su operación lógica sea **falso** dando como resultado, dos o más ejecuciones.\n",
        "\n",
        "Por ejemplo:"
      ],
      "metadata": {
        "id": "D5e2mByjvycO"
      }
    },
    {
      "cell_type": "code",
      "source": [],
      "metadata": {
        "id": "C21JmOuK-VU8"
      },
      "execution_count": null,
      "outputs": []
    },
    {
      "cell_type": "code",
      "source": [],
      "metadata": {
        "id": "bHiVgnPs-Vlv"
      },
      "execution_count": null,
      "outputs": []
    },
    {
      "cell_type": "markdown",
      "source": [
        "## `ELIF`\n",
        "\n",
        "El comando `elif` es una palabra clave en Python que significa \"si no, si\" y lo podemos considerar una *contracción* entre `else` e `if`. Se utiliza en conjunto con la palabra clave `if` para formar una estructura condicional en cadena."
      ],
      "metadata": {
        "id": "04T5g-7h4zWx"
      }
    },
    {
      "cell_type": "markdown",
      "source": [
        "la sintaxis para utilizar el comando `elif` es:\n",
        "\n",
        "```\n",
        "if condicion1:\n",
        "    # Realiza algo\n",
        "elif condicion2:\n",
        "    # Realiza otra cosa\n",
        "elif condicion3:\n",
        "    # Realiza otra cosa\n",
        "else:\n",
        "    # Realiza algo diferente\n",
        "```\n",
        "\n",
        "El comando `elif` permite que puedas verificar varias condiciones en cadena, economizando espacio en tu código. Si la primera condición se evalúa como `False`, el interpretador de Python evaluará la próxima condición con el `elif`. Ello continuará hasta que una condición sea evaluada como `True` o hasta que el `else` sea alcazado. Si ninguna de las condiciones es evaluada como `True`, la ejecución del código del comando `else` será iniciada."
      ],
      "metadata": {
        "id": "rNBHr5mm1Lm6"
      }
    },
    {
      "cell_type": "markdown",
      "source": [
        "Vamos a emplear el mismo caso anterior:"
      ],
      "metadata": {
        "id": "MVoykFbB4bd4"
      }
    },
    {
      "cell_type": "code",
      "source": [
        "nota = float(input(\"Digite la nota: \"))\n",
        "if nota >= 7.0:\n",
        "  print(\"El estudiante fue aprobado\")\n",
        "elif 7 > nota >= 5:\n",
        "  print(\"El estudiante Va a recuperacion\")\n",
        "else:\n",
        "  print(\"El estudiante fue reprobado\")"
      ],
      "metadata": {
        "id": "QFamB78s-TW_",
        "colab": {
          "base_uri": "https://localhost:8080/"
        },
        "outputId": "6bd10cdf-8bfc-49bd-c287-330e8932340a"
      },
      "execution_count": null,
      "outputs": [
        {
          "output_type": "stream",
          "name": "stdout",
          "text": [
            "Digite la nota: 8\n",
            "El estudiante fue aprobado\n"
          ]
        }
      ]
    },
    {
      "cell_type": "code",
      "source": [],
      "metadata": {
        "id": "nuScbnHF-TfK"
      },
      "execution_count": null,
      "outputs": []
    },
    {
      "cell_type": "markdown",
      "source": [
        "## Operadores\n",
        "\n",
        "Durante la construcción de comandos a veces necesitamos de una elaboración mayor de la expresión condicional, necesitando que algunos operadores lógicos se encuentren integrados."
      ],
      "metadata": {
        "id": "Tf1wSOem6iwZ"
      }
    },
    {
      "cell_type": "markdown",
      "source": [
        "### `AND`, `OR`, `NOT`\n",
        "\n",
        "Los operadores lógicos `and`, `or` y `not` son usados para combinar expresiones lógicas en Python. Ellos son usados frecuentemente en conjunto con el comando `if` para crear estructuras condicionales más complejas.\n"
      ],
      "metadata": {
        "id": "GFIZnRWXGPWO"
      }
    },
    {
      "cell_type": "markdown",
      "source": [
        "- `AND` es usado para verificar si dos condiciones son verdaderas. La expresión lógica¹ `x and y` se evalúa como `True` tan solo si **ambas condiciones `x` y `y` son verdaderas**, y como `False` en caso contrario.\n",
        "\n",
        "- `OR` es usado para verificar si al menos una de las condiciones es verdadera. La expresión lógica `x or y` se evalúa como `True` **si al menos una de las condiciones `x` o `y` es verdadera**, y como `False` si ambas condiciones son falsas.\n",
        "\n",
        "- `NOT` es usado para **negar una condición**. La expresión lógica `not x` es evaluada como `True` si la condición x es falsa, y como `False` si la condición x es verdadera.\n",
        "\n",
        "¹ Una expresión lógica es una declaración que puede ser evaluada como verdadera o falsa. Ella se compone por operandos lógicos² y por operadores lógicos³, que son usados ​​para combinar varias expresiones lógicas en una única expresión.\n",
        "\n",
        "² Los operandos lógicos son los elementos que son comparados o evaluados en una expresión lógica. Ellos son generalmente valores verdaderos o falsos, pero también pueden ser expresiones lógicas más complejas. En Python, los operandos lógicos son los valores `True` y `False`.\n",
        "\n",
        "³ Los operadores lógicos son ls símbolos o palabras clave que son usados ​​para combinar varias expresiones lógicas en una única expresión. En Python, los operadores lógicos son `and`, `or` y `not`, bien como las palabras clave `if`, `elif` e `else`."
      ],
      "metadata": {
        "id": "Z_dgAoHXJbzB"
      }
    },
    {
      "cell_type": "markdown",
      "source": [
        "> Operadores lógicos más comunes\n",
        "\n",
        "|a|b|AND|OR|NOT|\n",
        "|-|-|-|-|-|\n",
        "|0|0|0|0|1\n",
        "|0|1|0|1|-\n",
        "|1|0|0|1|-\n",
        "|1|1|1|1|0\n"
      ],
      "metadata": {
        "id": "2E5aUogf-49u"
      }
    },
    {
      "cell_type": "code",
      "source": [
        "v = True\n",
        "f = False"
      ],
      "metadata": {
        "id": "DFKmpvmS-Pa6"
      },
      "execution_count": null,
      "outputs": []
    },
    {
      "cell_type": "code",
      "source": [
        "# And\n",
        "if v and v:\n",
        "  print(\"Todo verdadero\")\n",
        "else:\n",
        "  print(\"Hay falso\")"
      ],
      "metadata": {
        "id": "W5BIrpOD-PeI",
        "colab": {
          "base_uri": "https://localhost:8080/"
        },
        "outputId": "0d35e9d7-23d4-4d24-9cb9-4854e17064c6"
      },
      "execution_count": null,
      "outputs": [
        {
          "output_type": "stream",
          "name": "stdout",
          "text": [
            "Todo verdadero\n"
          ]
        }
      ]
    },
    {
      "cell_type": "code",
      "source": [
        "if v or v:\n",
        "  print(\"verdadero\")\n",
        "else:\n",
        "  print(\"falso\")\n",
        "\n",
        "#Not\n",
        "\n",
        "if not v:\n",
        "  print(\"verdadero\")\n",
        "else:\n",
        "  print(\"falso\")"
      ],
      "metadata": {
        "id": "fpDhYxq4-PiM",
        "colab": {
          "base_uri": "https://localhost:8080/"
        },
        "outputId": "580ff4e3-2ff1-47fa-fdaf-b830a381a72c"
      },
      "execution_count": null,
      "outputs": [
        {
          "output_type": "stream",
          "name": "stdout",
          "text": [
            "verdadero\n",
            "falso\n"
          ]
        }
      ]
    },
    {
      "cell_type": "markdown",
      "source": [
        "### `IN`\n",
        "\n",
        "Es usado para verificar si un elemento está presente en una lista, tupla u otra colección de conjunto. La expresión `x in y` se evalúa como `True` si el elemento `x` esta presente na variávelen la variable de conjunto `y`, y como `False` en caso contrario."
      ],
      "metadata": {
        "id": "w7EXG1dhWtja"
      }
    },
    {
      "cell_type": "markdown",
      "source": [
        "Podemos verificarlo con variables de texto.\n",
        "\n",
        "---\n",
        "\n",
        "**Situación:**\n",
        "\n",
        "En la escuela nos entregaron una lista con nombres de estudiantes que fueron aprobados según el promedio del semestre, pero es necesario verificar si algunos nombres están en esa lista para confirmar que los datos estén correctos.\n",
        "\n",
        "La lista distribuida puede ser observada a continuación:\n",
        "\n",
        "```\n",
        "lista = 'Juan Pérez, María González, Pedro Rodríguez, Ana López, Carlos Martínez,\n",
        "    Laura Sánchez, José García, Elena Fernández, Luis Morales, Carmen Torres,\n",
        "    David Ruiz, Isabel Ramírez, Javier Díaz, Sara Herrera, Miguel Castro,\n",
        "    Patricia Ortega, Francisco Vargas, Marta Jiménez, Manuel Medina, Rosa Molina,\n",
        "    Alejandro Silva, Silvia Ruiz, Andrés Torres, Natalia Soto, Diego Guerrero,\n",
        "    Paula Ríos, Ricardo Navarro, Alicia Cordero, Carlos Vidal, Lorena Gómez'\n",
        "```\n",
        "\n",
        "Los nombres que necesitas verificar son los siguientes:\n",
        "\n",
        "```\n",
        "nombre_1 = 'Miguel Castro'\n",
        "nombre_2 = 'Marcelo Noguera'\n",
        "```"
      ],
      "metadata": {
        "id": "enJNp6JenQbq"
      }
    },
    {
      "cell_type": "code",
      "source": [
        "# prompt: creame una lista bien echa con estos datos\n",
        "\n",
        "lista = 'Juan Pérez, María González, Pedro Rodríguez, Ana López, Carlos Martínez, Laura Sánchez, José García, Elena Fernández, Luis Morales, Carmen Torres, David Ruiz, Isabel Ramírez, Javier Díaz, Sara Herrera, Miguel Castro, Patricia Ortega, Francisco Vargas, Marta Jiménez, Manuel Medina, Rosa Molina, Alejandro Silva, Silvia Ruiz, Andrés Torres, Natalia Soto, Diego Guerrero, Paula Ríos, Ricardo Navarro, Alicia Cordero, Carlos Vidal, Lorena Gómez'\n",
        "\n"
      ],
      "metadata": {
        "id": "hClpe61pS6h0"
      },
      "execution_count": null,
      "outputs": []
    },
    {
      "cell_type": "code",
      "source": [
        "nombre_1 ='Miguel Castro'\n",
        "nombre_2 = 'Marcelo Noguera'"
      ],
      "metadata": {
        "id": "gPPN9BCT-Mki"
      },
      "execution_count": null,
      "outputs": []
    },
    {
      "cell_type": "code",
      "source": [
        "if nombre_2 in lista:\n",
        "  print(f'{nombre_1} aprobo')\n",
        "else:\n",
        "  print(f'{nombre_1} reprobo')"
      ],
      "metadata": {
        "colab": {
          "base_uri": "https://localhost:8080/"
        },
        "id": "-WZKRBTJSiBc",
        "outputId": "95a17e78-32c0-4355-acd0-08a0f482865c"
      },
      "execution_count": null,
      "outputs": [
        {
          "output_type": "stream",
          "name": "stdout",
          "text": [
            "Miguel Castro reprobo\n"
          ]
        }
      ]
    },
    {
      "cell_type": "code",
      "source": [],
      "metadata": {
        "id": "GINbG3Fa-Mnb"
      },
      "execution_count": null,
      "outputs": []
    },
    {
      "cell_type": "markdown",
      "source": [
        "##Ejercicios##"
      ],
      "metadata": {
        "id": "RWdruaOvYERi"
      }
    },
    {
      "cell_type": "markdown",
      "source": [
        "1 - Escribe un programa que pida a la persona usuaria que proporcione dos números y muestre el número más grande.\n",
        "\n",
        "2 - Escribe un programa que solicite el porcentaje de crecimiento de producción de una empresa e informe si hubo un crecimiento (porcentaje positivo) o una disminución (porcentaje negativo).\n",
        "\n",
        "3 - Escribe un programa que determine si una letra proporcionada por la persona usuaria es una vocal o una consonante.\n",
        "\n",
        "4 - Escribe un programa que lea valores promedio de precios de un modelo de automóvil durante 3 años consecutivos y muestre el valor más alto y más bajo entre esos tres años.\n",
        "\n",
        "5 - Escribe un programa que pregunte sobre el precio de tres productos e indique cuál es el producto más barato para comprar.\n",
        "\n",
        "6 - Escribe un programa que lea tres números y los muestre en orden descendente.\n",
        "\n",
        "7 -Escribe un programa que pregunte en qué turno estudia la persona usuaria (\"mañana\", \"tarde\" o \"noche\") y muestre el mensaje \"¡Buenos Días!\", \"¡Buenas Tardes!\", \"¡Buenas Noches!\" o \"Valor Inválido!\", según el caso.\n",
        "\n",
        "8 - Escribe un programa que solicite un número entero a la persona usuaria y determine si es par o impar. Pista: Puedes usar el operador módulo (%).\n",
        "\n",
        "9 - Escribe un programa que pida un número a la persona usuaria y le informe si es entero o decimal.\n",
        "\n",
        "Momento de los proyectos\n",
        "\n",
        "10 - Un programa debe ser escrito para leer dos números y luego preguntar a la persona usuaria qué operación desea realizar. El resultado de la operación debe incluir información sobre el número, si es par o impar, positivo o negativo, e entero o decimal.\n",
        "\n",
        "11 - Escribe un programa que pida a la persona usuaria tres números que representan los lados de un triángulo. El programa debe informar si los valores pueden utilizarse para formar un triángulo y, en caso afirmativo, si es equilátero, isósceles o escaleno. Ten en cuenta algunas sugerencias:\n",
        "\n",
        "Tres lados forman un triángulo cuando la suma de cualesquiera dos lados es mayor que el tercero;\n",
        "Triángulo Equilátero: tres lados iguales;\n",
        "Triángulo Isósceles: dos lados iguales;\n",
        "Triángulo Escaleno: tres lados diferentes.\n",
        "\n",
        "12 - Un establecimiento está vendiendo combustibles con descuentos variables. Para el etanol, si la cantidad comprada es de hasta 15 litros, el descuento será del 2% por litro. En caso contrario, será del 4% por litro. Para el diésel, si la cantidad comprada es de hasta 15 litros, el descuento será del 3% por litro. En caso contrario, será del 5% por litro. El precio por litro de diésel es de R$ 2,00 y el precio por litro de etanol es de R$ 1,70. Escribe un programa que lea la cantidad de litros vendidos y el tipo de combustible (E para etanol y D para diésel) y calcule el valor a pagar por el cliente. Ten en cuenta algunas sugerencias:\n",
        "\n",
        "El valor del descuento será el producto del precio por litro, la cantidad de litros y el valor del descuento.\n",
        "El valor a pagar por un cliente será el resultado de la multiplicación del precio por litro por la cantidad de litros menos el valor del descuento resultante del cálculo.\n",
        "\n",
        "13 - En una empresa de venta de bienes raíces, debes crear un código que analice los datos de ventas anuales para ayudar a la dirección en la toma de decisiones. El código debe recopilar los datos de cantidad de ventas durante los años 2022 y 2023 y calcular la variación porcentual. A partir del valor de la variación, se deben proporcionar las siguientes sugerencias:\n",
        "\n",
        "Para una variación superior al 20%: bonificación para el equipo de ventas.\n",
        "Para una variación entre el 2% y el 20%: pequeña bonificación para el equipo de ventas.\n",
        "Para una variación entre el 2% y el -10%: planificación de políticas de incentivo a las ventas.\n",
        "Para bonificaciones inferiores al -10%: recorte de gastos."
      ],
      "metadata": {
        "id": "hElYhx5xYPu8"
      }
    },
    {
      "cell_type": "code",
      "source": [
        "#Ejercicio1\n",
        "numero_1 = float(input(\"Digite el primer numero: \"))\n",
        "numero_2 = float(input(\"Digite el segundo numero: \"))\n",
        "\n",
        "if numero_1 > numero_2:\n",
        "  print(f'El numero mayor es: {numero_1}')\n",
        "else:\n",
        "  print(f'El numero mayor es: {numero_2}')"
      ],
      "metadata": {
        "id": "hk-RhNRT-Mp7",
        "colab": {
          "base_uri": "https://localhost:8080/"
        },
        "outputId": "d62a937e-9b74-4881-80f4-afcd55e3228d"
      },
      "execution_count": null,
      "outputs": [
        {
          "output_type": "stream",
          "name": "stdout",
          "text": [
            "Digite el primer numero: 5\n",
            "Digite el segundo numero: 6\n",
            "El numero mayor es: 6.0\n"
          ]
        }
      ]
    },
    {
      "cell_type": "code",
      "source": [
        "#Ejercicio2\n",
        "porcentaje = float(input(\"Digite el porcentaje de crecimiento: \"))\n",
        "\n",
        "if porcentaje > 0:\n",
        "  print(\"Hubo un crecimiento\")\n",
        "elif porcentaje == 0:\n",
        "  print(\"No hubo crecimiento\")\n",
        "else:\n",
        "  print(\"Hubo un decrecimiento\")"
      ],
      "metadata": {
        "colab": {
          "base_uri": "https://localhost:8080/"
        },
        "id": "xkFQpYWzxa_0",
        "outputId": "d62a5a2d-b9f4-4d8c-8b33-98694f05837a"
      },
      "execution_count": null,
      "outputs": [
        {
          "output_type": "stream",
          "name": "stdout",
          "text": [
            "Digite el porcentaje de crecimiento: -10\n",
            "Hubo un decrecimiento\n"
          ]
        }
      ]
    },
    {
      "cell_type": "code",
      "source": [
        "#Ejercicio3\n",
        "\n",
        "letra = input(\"Digite una letra: \")\n",
        "\n",
        "if letra in 'aeiouAEIOU':\n",
        "  print(\"Es una vocal\")\n",
        "else:\n",
        "  print(\"Es una consonante\")"
      ],
      "metadata": {
        "colab": {
          "base_uri": "https://localhost:8080/"
        },
        "id": "CbF1e08hx2Rg",
        "outputId": "abf413ab-567b-43e3-95fd-e3c24eaa5e4e"
      },
      "execution_count": null,
      "outputs": [
        {
          "output_type": "stream",
          "name": "stdout",
          "text": [
            "Digite una letra: A\n",
            "Es una vocal\n"
          ]
        }
      ]
    },
    {
      "cell_type": "code",
      "source": [
        "#Ejercicior4\n",
        "\n",
        "precio_1 = float(input(\"Digite el primer precio: \"))\n",
        "precio_2 = float(input(\"Digite el segundo precio: \"))\n",
        "precio_3 = float(input(\"Digite el tercer precio: \"))\n",
        "\n",
        "lista_precios = [precio_1, precio_2, precio_3]\n",
        "lista_precios.sort()\n",
        "\n",
        "promedio = (precio_1 + precio_2 + precio_3) / 3\n",
        "\n",
        "print(f\"El promedio de precios es: {promedio}\")\n",
        "print(f\"El precio mas bajo es: {lista_precios[0]}\")\n",
        "print(f\"El precio mas alto es: {lista_precios[2]}\")\n"
      ],
      "metadata": {
        "colab": {
          "base_uri": "https://localhost:8080/"
        },
        "id": "_TIBZ3wJEAnX",
        "outputId": "26b2ce18-7c35-4bda-eec9-cbb30493ac4f"
      },
      "execution_count": null,
      "outputs": [
        {
          "output_type": "stream",
          "name": "stdout",
          "text": [
            "Digite el primer precio: 2000\n",
            "Digite el segundo precio: 3000\n",
            "Digite el tercer precio: 4000\n",
            "El promedio de precios es: 3000.0\n",
            "El precio mas bajo es: 2000.0\n",
            "El precio mas alto es: 4000.0\n"
          ]
        }
      ]
    },
    {
      "cell_type": "code",
      "source": [
        "#Ejercicio 5\n",
        "\n",
        "precio_1 = float(input(\"Digite el primer precio: \"))\n",
        "precio_2 = float(input(\"Digite el segundo precio: \"))\n",
        "precio_3 = float(input(\"Digite el tercer precio: \"))\n",
        "\n",
        "lista_precios = [precio_1, precio_2, precio_3]\n",
        "lista_precios.sort()\n",
        "\n",
        "print(f\"El producto mas barato es: {lista_precios[0]}\")\n"
      ],
      "metadata": {
        "colab": {
          "base_uri": "https://localhost:8080/"
        },
        "id": "0j5sKy5QGJ7P",
        "outputId": "776ec3a4-1c02-4ff4-a418-4ef74c56d92a"
      },
      "execution_count": null,
      "outputs": [
        {
          "output_type": "stream",
          "name": "stdout",
          "text": [
            "Digite el primer precio: 80\n",
            "Digite el segundo precio: 5\n",
            "Digite el tercer precio: 30\n",
            "El producto mas barato es: 5.0\n"
          ]
        }
      ]
    },
    {
      "cell_type": "code",
      "source": [
        "#Ejercicio6\n",
        "\n",
        "numero_1 = float(input(\"Digite el primer numero: \"))\n",
        "numero_2 = float(input(\"Digite el segundo numero: \"))\n",
        "numero_3 = float(input(\"Digite el tercer numero: \"))\n",
        "\n",
        "if numero_1 > numero_2 and numero_1 > numero_3:\n",
        "  print(f'El numero mayor es: {numero_1}')\n",
        "elif numero_2 > numero_1 and numero_2 > numero_3:\n",
        "  print(f'El numero mayor es: {numero_2}')\n",
        "else:\n",
        "  print(f'El numero mayor es: {numero_3}')\n",
        "\n"
      ],
      "metadata": {
        "colab": {
          "base_uri": "https://localhost:8080/"
        },
        "id": "MnwxOT0sGf0p",
        "outputId": "81bca155-ae68-420b-f361-9cfbf88cef49"
      },
      "execution_count": null,
      "outputs": [
        {
          "output_type": "stream",
          "name": "stdout",
          "text": [
            "Digite el primer numero: 100\n",
            "Digite el segundo numero: 50\n",
            "Digite el tercer numero: 5\n",
            "El numero mayor es: 100.0\n"
          ]
        }
      ]
    },
    {
      "cell_type": "code",
      "source": [
        "#Ejercicio7\n",
        "\n",
        "turno = input(\"Digite tu turno: \").lower()\n",
        "\n",
        "if turno == 'mañana':\n",
        "  print(\"Buenos dias\")\n",
        "elif turno == 'tarde':\n",
        "  print(\"Buenas tardes\")\n",
        "elif turno == 'noche':\n",
        "  print(\"Buenas noches\")"
      ],
      "metadata": {
        "colab": {
          "base_uri": "https://localhost:8080/"
        },
        "id": "WV_ae0KOG-Io",
        "outputId": "92b7507e-c6ab-4f4f-8778-030656dd9cc1"
      },
      "execution_count": null,
      "outputs": [
        {
          "output_type": "stream",
          "name": "stdout",
          "text": [
            "Digite tu turno: nochE\n",
            "Buenas noches\n"
          ]
        }
      ]
    },
    {
      "cell_type": "code",
      "source": [
        "#Ejercicio8\n",
        "\n",
        "numero = input(\"Digite un numero: \")\n",
        "\n",
        "if numero.isnumeric():\n",
        "  numero = int(numero)\n",
        "  if numero % 2 == 0:\n",
        "    print(\"El numero es par\")\n",
        "  else:\n",
        "    print(\"El numero es impar\")\n",
        "else:\n",
        "  print(\"El numero no es entero\")"
      ],
      "metadata": {
        "colab": {
          "base_uri": "https://localhost:8080/"
        },
        "id": "XsnxFvMQHTUi",
        "outputId": "23da1e79-315e-465a-b36d-b4330759016e"
      },
      "execution_count": null,
      "outputs": [
        {
          "output_type": "stream",
          "name": "stdout",
          "text": [
            "Digite un numero: 1\n",
            "El numero es impar\n"
          ]
        }
      ]
    },
    {
      "cell_type": "code",
      "source": [
        "#Ejercicio9\n",
        "numero = input(\"Digite un numero: \")\n",
        "\n",
        "def negativos():\n",
        "  if numero.startswith(\"-\") and numero[1:].isnumeric():\n",
        "    return True\n",
        "\n",
        "if numero.isnumeric() or negativos():\n",
        "  print(\"El numero es enetero\")\n",
        "else:\n",
        "  print(\"El numero es decimal\")"
      ],
      "metadata": {
        "colab": {
          "base_uri": "https://localhost:8080/"
        },
        "id": "KVKFsLylHrHh",
        "outputId": "55bd676e-986e-4648-d9cb-f7dd34dff832"
      },
      "execution_count": null,
      "outputs": [
        {
          "output_type": "stream",
          "name": "stdout",
          "text": [
            "Digite un numero: -8.5\n",
            "El numero es decimal\n"
          ]
        }
      ]
    },
    {
      "cell_type": "code",
      "source": [
        "#Ejercico 10\n",
        "\n",
        "numero_1 = float(input(\"Digite el primer numero: \"))\n",
        "numero_2 = float(input(\"Digite el segundo numero: \"))\n",
        "\n",
        "\n",
        "def caracteristicas(numero):\n",
        "  if numero % 2 == 0:\n",
        "     print(\"El numero es par\")\n",
        "  else:\n",
        "     print(\"El numero es impar\")\n",
        "\n",
        "  if numero > 0:\n",
        "    print(\"\\nEl numero es positivo\")\n",
        "  elif numero < 0:\n",
        "     print(\"\\nEl numero es negativo\")\n",
        "  else:\n",
        "     (\"\\nEl numero es cero\")\n",
        "\n",
        "  numero = int(numero)\n",
        "  if numero.isnumeric() or negativos():\n",
        "    return print(\"\\nEl numero es entero\")\n",
        "  else:\n",
        "    return print(\"\\nEl numero es decimal\")\n",
        "\n",
        "operacion = input(\"¿que operacion desea realizar? \")\n",
        "\n",
        "if operacion == 'suma':\n",
        "  resultado = numero_1 + numero_2\n",
        "  print(f'El resultado de la suma es: {resultado}')\n",
        "elif operacion == 'resta':\n",
        "  resultado = numero_1 - numero_2\n",
        "  print(f'El resultado de la resta es: {resultado}. y cuenta con las siguientes caracteristicas:{caracteristicas(resultado)}')\n",
        "elif operacion == 'multiplicacion':\n",
        "  resultado = numero_1 * numero_2\n",
        "  print(f'El resultado de la multiplicacion es: {resultado} y cuenta con las siguientes caracteristicas')\n",
        "  caracteristicas(resultado)\n",
        "elif operacion == 'multiplicacion':\n",
        "  resultado = numero_1 * numero_2\n",
        "  print(f'El resultado de la multiplicacion es: {resultado} y cuenta con las siguientes caracteristicas')\n",
        "  caracteristicas(resultado)\n",
        "elif operacion == 'division':\n",
        "  resultado = numero_1 / numero_2\n",
        "  print(f'El resultado de la division es: {resultado} y cuenta con las siguientes caracteristicas')\n",
        "  caracteristicas(resultado)\n",
        "\n",
        "else:\n",
        "  print(\"Operacion no valida\")\n",
        "\n",
        "print(f'El resultado tiene las lacaracteristicas {caracteristicas(resultado)}')"
      ],
      "metadata": {
        "colab": {
          "base_uri": "https://localhost:8080/",
          "height": 419
        },
        "id": "Ry6t4V81Nxe8",
        "outputId": "273da169-04c7-497a-d165-e265c736df39"
      },
      "execution_count": null,
      "outputs": [
        {
          "output_type": "stream",
          "name": "stdout",
          "text": [
            "Digite el primer numero: 8\n",
            "Digite el segundo numero: 8\n",
            "¿que operacion desea realizar? suma\n",
            "El resultado de la suma es: 16.0\n",
            "El numero es par\n",
            "\n",
            "El numero es positivo\n"
          ]
        },
        {
          "output_type": "error",
          "ename": "AttributeError",
          "evalue": "'int' object has no attribute 'isnumeric'",
          "traceback": [
            "\u001b[0;31m---------------------------------------------------------------------------\u001b[0m",
            "\u001b[0;31mAttributeError\u001b[0m                            Traceback (most recent call last)",
            "\u001b[0;32m/tmp/ipython-input-6-1384718345.py\u001b[0m in \u001b[0;36m<cell line: 0>\u001b[0;34m()\u001b[0m\n\u001b[1;32m     48\u001b[0m   \u001b[0mprint\u001b[0m\u001b[0;34m(\u001b[0m\u001b[0;34m\"Operacion no valida\"\u001b[0m\u001b[0;34m)\u001b[0m\u001b[0;34m\u001b[0m\u001b[0;34m\u001b[0m\u001b[0m\n\u001b[1;32m     49\u001b[0m \u001b[0;34m\u001b[0m\u001b[0m\n\u001b[0;32m---> 50\u001b[0;31m \u001b[0mprint\u001b[0m\u001b[0;34m(\u001b[0m\u001b[0;34mf'El resultado tiene las lacaracteristicas {caracteristicas(resultado)}'\u001b[0m\u001b[0;34m)\u001b[0m\u001b[0;34m\u001b[0m\u001b[0;34m\u001b[0m\u001b[0m\n\u001b[0m",
            "\u001b[0;32m/tmp/ipython-input-6-1384718345.py\u001b[0m in \u001b[0;36mcaracteristicas\u001b[0;34m(numero)\u001b[0m\n\u001b[1;32m     19\u001b[0m \u001b[0;34m\u001b[0m\u001b[0m\n\u001b[1;32m     20\u001b[0m   \u001b[0mnumero\u001b[0m \u001b[0;34m=\u001b[0m \u001b[0mint\u001b[0m\u001b[0;34m(\u001b[0m\u001b[0mnumero\u001b[0m\u001b[0;34m)\u001b[0m\u001b[0;34m\u001b[0m\u001b[0;34m\u001b[0m\u001b[0m\n\u001b[0;32m---> 21\u001b[0;31m   \u001b[0;32mif\u001b[0m \u001b[0mnumero\u001b[0m\u001b[0;34m.\u001b[0m\u001b[0misnumeric\u001b[0m\u001b[0;34m(\u001b[0m\u001b[0;34m)\u001b[0m \u001b[0;32mor\u001b[0m \u001b[0mnegativos\u001b[0m\u001b[0;34m(\u001b[0m\u001b[0;34m)\u001b[0m\u001b[0;34m:\u001b[0m\u001b[0;34m\u001b[0m\u001b[0;34m\u001b[0m\u001b[0m\n\u001b[0m\u001b[1;32m     22\u001b[0m     \u001b[0;32mreturn\u001b[0m \u001b[0mprint\u001b[0m\u001b[0;34m(\u001b[0m\u001b[0;34m\"\\nEl numero es entero\"\u001b[0m\u001b[0;34m)\u001b[0m\u001b[0;34m\u001b[0m\u001b[0;34m\u001b[0m\u001b[0m\n\u001b[1;32m     23\u001b[0m   \u001b[0;32melse\u001b[0m\u001b[0;34m:\u001b[0m\u001b[0;34m\u001b[0m\u001b[0;34m\u001b[0m\u001b[0m\n",
            "\u001b[0;31mAttributeError\u001b[0m: 'int' object has no attribute 'isnumeric'"
          ]
        }
      ]
    },
    {
      "cell_type": "markdown",
      "source": [
        "11 - Escribe un programa que pida a la persona usuaria tres números que representan los lados de un triángulo. El programa debe informar si los valores pueden utilizarse para formar un triángulo y, en caso afirmativo, si es equilátero, isósceles o escaleno. Ten en cuenta algunas sugerencias:\n",
        "\n",
        "Tres lados forman un triángulo cuando la suma de cualesquiera dos lados es mayor que el tercero; Triángulo Equilátero: tres lados iguales; Triángulo Isósceles: dos lados iguales; Triángulo Escaleno: tres lados diferentes."
      ],
      "metadata": {
        "id": "FB9Bz42eh0lx"
      }
    },
    {
      "cell_type": "code",
      "source": [
        "#Ejercicio 11\n",
        "\n",
        "lado_1 = float(input('Digite el primer lado: '))\n",
        "lado_2 = float(input('Digite el segundo lado: '))\n",
        "lado_3 = float(input('Digite el tercer número: '))\n",
        "\n",
        "if lado_1 + lado_2 > lado_3 and lado_1 + lado_3 > lado_2 and lado_2 + lado_3 > lado_1:\n",
        "  print('Los lados forman un triangulo')\n",
        "\n",
        "  if lado_1 == lado_2 == lado_3:\n",
        "    print('Es un Equilátero')\n",
        "  elif lado_1 == lado_2 or lado_1 == lado_3 or lado_2 == lado_3:\n",
        "    print('Es un Isóceles')\n",
        "  else:\n",
        "    print('Es un Escaleno')\n",
        "else:\n",
        "  print('Los lados no forman un triangulo')"
      ],
      "metadata": {
        "colab": {
          "base_uri": "https://localhost:8080/"
        },
        "id": "am2mdG6Khp0I",
        "outputId": "698afc6b-547b-44af-b09a-7f26efaab165"
      },
      "execution_count": null,
      "outputs": [
        {
          "output_type": "stream",
          "name": "stdout",
          "text": [
            "Digite el primer lado: 9\n",
            "Digite el segundo lado: 6\n",
            "Digite el tercer número: 6\n",
            "Los lados forman un triangulo\n",
            "Es un Isóceles\n"
          ]
        }
      ]
    },
    {
      "cell_type": "markdown",
      "source": [
        "12 - Un establecimiento está vendiendo combustibles con descuentos variables. Para el etanol, si la cantidad comprada es de hasta 15 litros, el descuento será del 2% por litro. En caso contrario, será del 4% por litro. Para el diésel, si la cantidad comprada es de hasta 15 litros, el descuento será del 3% por litro. En caso contrario, será del 5% por litro. El precio por litro de diésel es de R 2,00yelprecioporlitrodeetanolesdeR  1,70. Escribe un programa que lea la cantidad de litros vendidos y el tipo de combustible (E para etanol y D para diésel) y calcule el valor a pagar por el cliente. Ten en cuenta algunas sugerencias:\n",
        "\n",
        "El valor del descuento será el producto del precio por litro, la cantidad de litros y el valor del descuento. El valor a pagar por un cliente será el resultado de la multiplicación del precio por litro por la cantidad de litros menos el valor del descuento resultante del cálculo."
      ],
      "metadata": {
        "id": "lz1ZYpzXjUK1"
      }
    },
    {
      "cell_type": "code",
      "source": [
        "precio_D = 2\n",
        "precio_E = 1.70\n",
        "\n",
        "tipo_combustible = input('Digite el tipo de combustible D para diesel y E para etanol: ')\n",
        "cantidad_litros = float(input('Digite la cantidad de litros: '))\n",
        "\n",
        "match tipo_combustible:\n",
        "\n",
        "  case 'D':\n",
        "    if cantidad_litros <= 15:\n",
        "      descuento = 0.03\n",
        "    else:\n",
        "      descuento = 0.05\n",
        "\n",
        "    pagar = precio_D * cantidad_litros * (1 - descuento)\n",
        "    print(f'El valor a pagar es: {pagar}, por la cantidad de {cantidad_litros}L de Diesel')\n",
        "  case 'E':\n",
        "    if cantidad_litros <= 15:\n",
        "      descuento = 0.02\n",
        "    else:\n",
        "      descuento = 0.04\n",
        "    pagar = precio_E * cantidad_litros * (1 - descuento)\n",
        "    print(f'El valor a pagar es: {pagar}, por la cantidad de {cantidad_litros}L de Etanol ')\n",
        "  case _:\n",
        "    print('Tipo de combustible no valido')\n"
      ],
      "metadata": {
        "colab": {
          "base_uri": "https://localhost:8080/"
        },
        "id": "4-mY6Zl4kidy",
        "outputId": "601c1be7-ba2d-4434-b0f1-dbb67c4a58ce"
      },
      "execution_count": null,
      "outputs": [
        {
          "output_type": "stream",
          "name": "stdout",
          "text": [
            "Digite el tipo de combustible D para diesel y E para etanol: E\n",
            "Digite la cantidad de litros: 14\n",
            "El valor a pagar es: 23.324, por la cantidad de 14.0L de Etanol \n"
          ]
        }
      ]
    },
    {
      "cell_type": "markdown",
      "source": [
        "13 - En una empresa de venta de bienes raíces, debes crear un código que analice los datos de ventas anuales para ayudar a la dirección en la toma de decisiones. El código debe recopilar los datos de cantidad de ventas durante los años 2022 y 2023 y calcular la variación porcentual. A partir del valor de la variación, se deben proporcionar las siguientes sugerencias:\n",
        "\n",
        "Para una variación superior al 20%: bonificación para el equipo de ventas. Para una variación entre el 2% y el 20%: pequeña bonificación para el equipo de ventas. Para una variación entre el 2% y el -10%: planificación de políticas de incentivo a las ventas. Para bonificaciones inferiores al -10%: recorte de gastos.\n",
        "\n"
      ],
      "metadata": {
        "id": "90Nxfqqbm6v9"
      }
    },
    {
      "cell_type": "code",
      "source": [
        "variacion = int(input('Digite la variacion porcentual: '))\n",
        "\n",
        "if variacion > 20:\n",
        "  print('Bonificacion para el equipo de ventas')\n",
        "elif 2 <= variacion <= 20:\n",
        "  print('Pequeña bonificacion para el equipo de ventas')\n",
        "elif -10 <= variacion <= 2:\n",
        "  print('Planificacion de políticas de incentivo a las ventas')\n",
        "else:\n",
        "  print('Recorte de gastos')"
      ],
      "metadata": {
        "colab": {
          "base_uri": "https://localhost:8080/"
        },
        "id": "JR3foHbunObq",
        "outputId": "359b81bb-fcea-4b1f-9984-956033abf8b1"
      },
      "execution_count": null,
      "outputs": [
        {
          "output_type": "stream",
          "name": "stdout",
          "text": [
            "Digite la variacion porcentual: -89\n",
            "Recorte de gastos\n"
          ]
        }
      ]
    },
    {
      "cell_type": "markdown",
      "source": [
        "# Estructuras de repetición"
      ],
      "metadata": {
        "id": "aL1vJPewvwvz"
      }
    },
    {
      "cell_type": "markdown",
      "source": [
        "Cuando tenemos que ejecutar un mismo bloque de comandos durante varias ocasiones no es nada práctico hacerlo a mano.\n",
        "\n",
        "**Situación**: Nos fue solicitado obtener e imprimir el promedio de 2 notas de **3 estudantes**:"
      ],
      "metadata": {
        "id": "VcPfCa8d-84t"
      }
    },
    {
      "cell_type": "code",
      "source": [
        "for i in range(3):\n",
        "  nota_1 = float(input(\"Digite la nota 1: \"))\n",
        "  nota_2 = float(input(\"Digite la nota 2: \"))\n",
        "  print(f\"El promedio del estudiante {i+1} es: {(nota_1 + nota_2) / 2}\")\n"
      ],
      "metadata": {
        "id": "xcx21IGT9qA0",
        "colab": {
          "base_uri": "https://localhost:8080/"
        },
        "outputId": "d5e5cf5f-0410-413d-edd8-5856a2721003"
      },
      "execution_count": null,
      "outputs": [
        {
          "output_type": "stream",
          "name": "stdout",
          "text": [
            "Digite la nota 1: 7\n",
            "Digite la nota 2: 8\n",
            "El promedio del estudiante 1 es: 7.5\n",
            "Digite la nota 1: 9\n",
            "Digite la nota 2: 10\n",
            "El promedio del estudiante 2 es: 9.5\n",
            "Digite la nota 1: 4\n",
            "Digite la nota 2: 8\n",
            "El promedio del estudiante 3 es: 6.0\n"
          ]
        }
      ]
    },
    {
      "cell_type": "code",
      "source": [],
      "metadata": {
        "id": "Wtbiy9Ay9rGJ"
      },
      "execution_count": null,
      "outputs": []
    },
    {
      "cell_type": "code",
      "source": [],
      "metadata": {
        "id": "Yfyz4anY9rIr"
      },
      "execution_count": null,
      "outputs": []
    },
    {
      "cell_type": "markdown",
      "source": [
        "Ahora imaginemos una situación en que no son tan solo 3 estudiantes, sino 100 estudiantes. No sería nada interesante repetir el mismo código 100 veces, sino **ejecutar el mismo código 100 veces**.\n",
        "\n",
        "¡Esta estructura la logramos construir con lazos de repetición!"
      ],
      "metadata": {
        "id": "9puIuvUbFSFX"
      }
    },
    {
      "cell_type": "markdown",
      "source": [
        "## `WHILE`"
      ],
      "metadata": {
        "id": "uLO9-aE4-wx8"
      }
    },
    {
      "cell_type": "markdown",
      "source": [
        "El lazo `while` es una estructura de control de repetición en Python que permite ejecutar un bloque de código repetidamente mientras que una determinada condición sea verdadera. Su estructura es:\n",
        "\n",
        "\n",
        "\n",
        "```\n",
        "while condicion:\n",
        "    # bloque de codigo\n",
        "```\n",
        "\n",
        "Vamos a construir un ejemplo con un contador de 1 hasta 10.\n"
      ],
      "metadata": {
        "id": "rXZxDMiqHxm9"
      }
    },
    {
      "cell_type": "code",
      "source": [
        "contador = 1\n",
        "while contador <= 10:\n",
        "  print(contador)\n",
        "  contador += 1"
      ],
      "metadata": {
        "id": "Hd0ZSWxD9wCD",
        "colab": {
          "base_uri": "https://localhost:8080/"
        },
        "outputId": "fa1abf10-0093-4cc8-9d57-a19200c26c3a"
      },
      "execution_count": null,
      "outputs": [
        {
          "output_type": "stream",
          "name": "stdout",
          "text": [
            "1\n",
            "2\n",
            "3\n",
            "4\n",
            "5\n",
            "6\n",
            "7\n",
            "8\n",
            "9\n",
            "10\n"
          ]
        }
      ]
    },
    {
      "cell_type": "code",
      "source": [],
      "metadata": {
        "id": "miFHNqp29nOL"
      },
      "execution_count": null,
      "outputs": []
    },
    {
      "cell_type": "markdown",
      "source": [
        "Ahora vamos a colectar las notas y promedios de cada alumno dentro del lazo `while`. Haremos un ejemplo con 3 promedios."
      ],
      "metadata": {
        "id": "W4KZPBJuIrut"
      }
    },
    {
      "cell_type": "code",
      "source": [
        "contador = 1\n",
        "while contador <= 3:\n",
        "  nota_1 = float(input(\"Digite la nota 1: \"))\n",
        "  nota_2 = float(input(\"Digite la nota 2: \"))\n",
        "  print(f\"El promedio del estudiante {contador} es: {(nota_1 + nota_2) / 2}\")\n",
        "  contador += 1"
      ],
      "metadata": {
        "id": "9T5eCLFx9wk6",
        "colab": {
          "base_uri": "https://localhost:8080/"
        },
        "outputId": "83db59eb-b51e-4247-ad22-7ac62cd03a37"
      },
      "execution_count": null,
      "outputs": [
        {
          "output_type": "stream",
          "name": "stdout",
          "text": [
            "Digite la nota 1: 10\n",
            "Digite la nota 2: 9\n",
            "El promedio del estudiante 1 es: 9.5\n",
            "Digite la nota 1: 5\n",
            "Digite la nota 2: 9\n",
            "El promedio del estudiante 2 es: 7.0\n",
            "Digite la nota 1: 9\n",
            "Digite la nota 2: 6\n",
            "El promedio del estudiante 3 es: 7.5\n"
          ]
        }
      ]
    },
    {
      "cell_type": "code",
      "source": [],
      "metadata": {
        "id": "P6E0_dW-9lZ9"
      },
      "execution_count": null,
      "outputs": []
    },
    {
      "cell_type": "markdown",
      "source": [
        "## `FOR`"
      ],
      "metadata": {
        "id": "WgAIaENMMfCP"
      }
    },
    {
      "cell_type": "markdown",
      "source": [
        "El lazo `for` es un tipo de estructura de control de flujo en Python que permite iterar sobre un conjunto de elementos. Su estructura es:\n",
        "\n",
        "\n",
        "\n",
        "```\n",
        "for elemento in conjunto:\n",
        "    # codigo a ser ejecutado para cada elemento\n",
        "```\n",
        "\n",
        "El lazo `for` itera sobre cada elemento del conjunto especificado y ejecuta el bloque de código dentro del lazo para cada elemento. Cuando el lazo llega al final del conjunto, este se interrumpe y el programa continúa la ejecución después del lazo.\n",
        "\n"
      ],
      "metadata": {
        "id": "HxrSZoRAMh-x"
      }
    },
    {
      "cell_type": "markdown",
      "source": [
        "El conjunto lo podemos generar con la función incorporada [`range()`](https://docs.python.org/3/library/functions.html#func-range). Se trata de una función capaz de generar una secuencia de números enteros. La estructura de esta función es:\n",
        "\n",
        "```\n",
        "range(inicio, fin, paso)\n",
        "```\n",
        "\n",
        "Según la documentación, `range()` genera una secuencia de números enteros a partir del valor del parámetro `inicio` hasta el valor del parámetro `fin`, de acuerdo con el valor del parámetro `paso`. Si `inicio` no es especificado, el valor por defecto es `0`. Si `paso` no es especificado, el valor por defecto es `1`.\n",
        "\n",
        "\n"
      ],
      "metadata": {
        "id": "6VgjyoQtPHBM"
      }
    },
    {
      "cell_type": "markdown",
      "source": [
        "Vamos a recrear el mismo contador `while` con el lazo `for`."
      ],
      "metadata": {
        "id": "ryn0hfdlUwC8"
      }
    },
    {
      "cell_type": "code",
      "source": [
        "for n in range(1 ,11):\n",
        "  print(n)"
      ],
      "metadata": {
        "id": "KkL1wUIj9jL4",
        "colab": {
          "base_uri": "https://localhost:8080/"
        },
        "outputId": "5b01375a-7546-482c-b657-7759941c0c1d"
      },
      "execution_count": null,
      "outputs": [
        {
          "output_type": "stream",
          "name": "stdout",
          "text": [
            "1\n",
            "2\n",
            "3\n",
            "4\n",
            "5\n",
            "6\n",
            "7\n",
            "8\n",
            "9\n",
            "10\n"
          ]
        }
      ]
    },
    {
      "cell_type": "code",
      "source": [
        "for e in range(1,4):\n",
        "  nota_1 = float(input(\"Digite la nota 1: \"))\n",
        "  nota_2 = float(input(\"Digite la nota 2: \"))\n",
        "  print(f\"El promedio del estudiante {contador} es: {(nota_1 + nota_2) / 2}\")"
      ],
      "metadata": {
        "id": "uXIZnLSr9jOu",
        "colab": {
          "base_uri": "https://localhost:8080/"
        },
        "outputId": "fb457d19-e0c3-4cb0-989b-717dde8b49e4"
      },
      "execution_count": null,
      "outputs": [
        {
          "output_type": "stream",
          "name": "stdout",
          "text": [
            "Digite la nota 1: 4\n",
            "Digite la nota 2: 5\n",
            "El promedio del estudiante 4 es: 4.5\n",
            "Digite la nota 1: 8\n",
            "Digite la nota 2: 9.6\n",
            "El promedio del estudiante 4 es: 8.8\n",
            "Digite la nota 1: 1\n",
            "Digite la nota 2: 10\n",
            "El promedio del estudiante 4 es: 5.5\n"
          ]
        }
      ]
    },
    {
      "cell_type": "markdown",
      "source": [
        "##Ejercicios While y For##"
      ],
      "metadata": {
        "id": "reiHfjP7iFLH"
      }
    },
    {
      "cell_type": "markdown",
      "source": [
        "Entrenando la programación\n",
        "\n",
        "1 - Escribe un programa que solicite dos números enteros e imprima todos los números enteros entre ellos.\n",
        "\n"
      ],
      "metadata": {
        "id": "fjbkFAG7iKB9"
      }
    },
    {
      "cell_type": "code",
      "source": [
        "# Ejercicio 1\n",
        "\n",
        "numero_1 = int(input(\"Digite el primer numero: \"))\n",
        "numero_2 = int(input(\"Digite el segundo numero: \"))\n",
        "\n",
        "if numero_1 < numero_2:\n",
        "  for n in range(numero_1 + 1, numero_2 ):\n",
        "    print(n)\n",
        "else:\n",
        "  for n in range( numero_2 + 1, numero_1):\n",
        "    print(n)"
      ],
      "metadata": {
        "colab": {
          "base_uri": "https://localhost:8080/"
        },
        "id": "bEO-soS2nyhE",
        "outputId": "6fd59f39-01d5-4c45-e7a9-0200c1c45a4f"
      },
      "execution_count": null,
      "outputs": [
        {
          "output_type": "stream",
          "name": "stdout",
          "text": [
            "Digite el primer numero: 2\n",
            "Digite el segundo numero: 9\n",
            "3\n",
            "4\n",
            "5\n",
            "6\n",
            "7\n",
            "8\n"
          ]
        }
      ]
    },
    {
      "cell_type": "markdown",
      "source": [
        "2 - Escribe un programa para calcular cuántos días tomará que la colonia de una bacteria A supere o iguale a la colonia de una bacteria B, basado en tasas de crecimiento del 3% y 1.5%, respectivamente. Supón que la colonia A comienza con 4 elementos y B con 10."
      ],
      "metadata": {
        "id": "EAP3upLMn2HZ"
      }
    },
    {
      "cell_type": "code",
      "source": [
        "A = 4\n",
        "B = 10\n",
        "dias = 0\n",
        "while A < B:\n",
        "  A = A + (A * 0.03)\n",
        "  B = B + (B * 0.015)\n",
        "  dias += 1\n",
        "print(f'La colonia A supero a la colonia B en {dias} días con una comparacion de { A, B}')"
      ],
      "metadata": {
        "colab": {
          "base_uri": "https://localhost:8080/"
        },
        "id": "-4-pSKphp1Ef",
        "outputId": "a30d49a3-3fb6-4020-83cd-20ad5ab28dcc"
      },
      "execution_count": null,
      "outputs": [
        {
          "output_type": "stream",
          "name": "stdout",
          "text": [
            "La colonia A supero a la colonia B en 63 días con una comparacion de (25.75165514029833, 25.54822084811115)\n"
          ]
        }
      ]
    },
    {
      "cell_type": "markdown",
      "source": [
        "\n",
        "3 - Para procesar una cantidad de 15 datos de evaluaciones de usuarios de un servicio de la empresa, necesitamos verificar si las calificaciones son válidas. Por lo tanto, escribe un programa que recibirá calificaciones del 0 al 5 y verificará si son valores válidos. Si se ingresa una calificación superior a 5 o inferior a 0, se repetirá hasta que el usuario ingrese un valor válido.\n"
      ],
      "metadata": {
        "id": "ogYdLCjTn18T"
      }
    },
    {
      "cell_type": "code",
      "source": [
        "for dato in range(15):\n",
        "  calificacion = float(input('Digite una calificacion del 0 al 5: '))\n",
        "  while calificacion < 0 or calificacion > 5:\n",
        "    print('Porfavor digite una calificacion valida')\n",
        "    calificacion = float(input('Digite una calificacion del 0 al 5: '))\n",
        "\n",
        "  print(f'La calificacion {calificacion} es valida')\n"
      ],
      "metadata": {
        "colab": {
          "base_uri": "https://localhost:8080/"
        },
        "id": "OuQzvTpWxu7e",
        "outputId": "dedce951-44f0-4168-95a4-922956c56af6"
      },
      "execution_count": null,
      "outputs": [
        {
          "output_type": "stream",
          "name": "stdout",
          "text": [
            "Digite una calificacion del 0 al 58\n",
            "Porfavor digite una calificacion valida\n",
            "Digite una calificacion del 0 al 58\n",
            "Porfavor digite una calificacion valida\n",
            "Digite una calificacion del 0 al 58\n",
            "Porfavor digite una calificacion valida\n",
            "Digite una calificacion del 0 al 58\n",
            "Porfavor digite una calificacion valida\n",
            "Digite una calificacion del 0 al 58\n",
            "Porfavor digite una calificacion valida\n",
            "Digite una calificacion del 0 al 58\n",
            "Porfavor digite una calificacion valida\n",
            "Digite una calificacion del 0 al 58\n",
            "Porfavor digite una calificacion valida\n",
            "Digite una calificacion del 0 al 58\n",
            "Porfavor digite una calificacion valida\n",
            "Digite una calificacion del 0 al 58\n",
            "Porfavor digite una calificacion valida\n",
            "Digite una calificacion del 0 al 58\n",
            "Porfavor digite una calificacion valida\n",
            "Digite una calificacion del 0 al 58\n",
            "Porfavor digite una calificacion valida\n",
            "Digite una calificacion del 0 al 58\n",
            "Porfavor digite una calificacion valida\n",
            "Digite una calificacion del 0 al 58\n",
            "Porfavor digite una calificacion valida\n",
            "Digite una calificacion del 0 al 58\n",
            "Porfavor digite una calificacion valida\n",
            "Digite una calificacion del 0 al 58\n",
            "Porfavor digite una calificacion valida\n",
            "Digite una calificacion del 0 al 58\n",
            "Porfavor digite una calificacion valida\n",
            "Digite una calificacion del 0 al 58\n",
            "Porfavor digite una calificacion valida\n",
            "Digite una calificacion del 0 al 51\n",
            "La calificacion 1.0 es valida\n",
            "Digite una calificacion del 0 al 55\n",
            "La calificacion 5.0 es valida\n",
            "Digite una calificacion del 0 al 51\n",
            "La calificacion 1.0 es valida\n",
            "Digite una calificacion del 0 al 51\n",
            "La calificacion 1.0 es valida\n",
            "Digite una calificacion del 0 al 51\n",
            "La calificacion 1.0 es valida\n",
            "Digite una calificacion del 0 al 51\n",
            "La calificacion 1.0 es valida\n",
            "Digite una calificacion del 0 al 51\n",
            "La calificacion 1.0 es valida\n",
            "Digite una calificacion del 0 al 51\n",
            "La calificacion 1.0 es valida\n",
            "Digite una calificacion del 0 al 51\n",
            "La calificacion 1.0 es valida\n",
            "Digite una calificacion del 0 al 51\n",
            "La calificacion 1.0 es valida\n",
            "Digite una calificacion del 0 al 51\n",
            "La calificacion 1.0 es valida\n",
            "Digite una calificacion del 0 al 51\n",
            "La calificacion 1.0 es valida\n",
            "Digite una calificacion del 0 al 51\n",
            "La calificacion 1.0 es valida\n",
            "Digite una calificacion del 0 al 51\n",
            "La calificacion 1.0 es valida\n",
            "Digite una calificacion del 0 al 51\n",
            "La calificacion 1.0 es valida\n"
          ]
        }
      ]
    },
    {
      "cell_type": "markdown",
      "source": [
        "4 - Desarrolla un programa que lea un conjunto indefinido de temperaturas en grados Celsius y calcule su promedio. La lectura debe detenerse al ingresar el valor -273°C."
      ],
      "metadata": {
        "id": "cSK4pI2gn1y1"
      }
    },
    {
      "cell_type": "code",
      "source": [
        "temperatura = float(input('Digite una temperatura en grados Celsius: '))\n",
        "suma = 0\n",
        "contador = 0\n",
        "while temperatura != -273:\n",
        "  suma += temperatura\n",
        "  temperatura = float(input('Digite una temperatura en grados Celsius: '))\n",
        "  contador += 1\n",
        "\n",
        "promedio = suma / contador\n",
        "\n",
        "print(f'El promedio de las temperaturas es: {promedio}')\n",
        "\n"
      ],
      "metadata": {
        "colab": {
          "base_uri": "https://localhost:8080/"
        },
        "id": "CWOPzxdZzdWA",
        "outputId": "e5bb96f1-e338-4cf0-c389-5b3a8b76131c"
      },
      "execution_count": null,
      "outputs": [
        {
          "output_type": "stream",
          "name": "stdout",
          "text": [
            "Digite una temperatura en grados Celsius: 8\n",
            "Digite una temperatura en grados Celsius: 3\n",
            "Digite una temperatura en grados Celsius: 5\n",
            "Digite una temperatura en grados Celsius: 40\n",
            "Digite una temperatura en grados Celsius: 30\n",
            "Digite una temperatura en grados Celsius: 22\n",
            "Digite una temperatura en grados Celsius: 24\n",
            "Digite una temperatura en grados Celsius: 31\n",
            "Digite una temperatura en grados Celsius: 33\n",
            "Digite una temperatura en grados Celsius: 12\n",
            "Digite una temperatura en grados Celsius: -273\n",
            "El promedio de las temperaturas es: 20.8\n"
          ]
        }
      ]
    },
    {
      "cell_type": "markdown",
      "source": [
        "5 - Escribe un programa que calcule el factorial de un número entero proporcionado por el usuario. Recuerda que el factorial de un número entero es el producto de ese número por todos sus antecesores hasta llegar al número 1. Por ejemplo, el factorial de 5 es 5 x 4 x 3 x 2 x 1 = 120."
      ],
      "metadata": {
        "id": "OJTALqdkn1f4"
      }
    },
    {
      "cell_type": "code",
      "source": [
        "numero = int(input('Ingrese facotorial a cacular: '))\n",
        "\n",
        "for i in range(1, numero):\n",
        "  numero *= i\n",
        "\n",
        "print(f'El factorial de {numero} es: {numero}')"
      ],
      "metadata": {
        "colab": {
          "base_uri": "https://localhost:8080/"
        },
        "id": "iUXHoLCh0oqA",
        "outputId": "2d8e94b8-471a-44b9-ba4e-6a6338b27b00"
      },
      "execution_count": null,
      "outputs": [
        {
          "output_type": "stream",
          "name": "stdout",
          "text": [
            "Ingrese facotorial a cacular: 5\n",
            "El factorial de 120 es: 120\n"
          ]
        }
      ]
    },
    {
      "cell_type": "markdown",
      "source": [
        "Momento de los proyectos\n",
        "\n",
        "6 - Escribe un programa que genere la tabla de multiplicar de un número entero del 1 al 10, según la elección del usuario. Como ejemplo, para el número 2, la tabla de multiplicar debe mostrarse en el siguiente formato:\n",
        "\n",
        "Tabla de multiplicar del 2:\n",
        "2 x 1 = 2\n",
        "2 x 2 = 4\n",
        "[...]\n",
        "2 x 10 = 20"
      ],
      "metadata": {
        "id": "dX5hvBmA0kEZ"
      }
    },
    {
      "cell_type": "code",
      "source": [
        "tabla = int(input('Digite la tabla que desea ver: '))\n",
        "print(f'La tabla del {tabla} es :')\n",
        "for i in range(1, 11):\n",
        "  print(f'{tabla} x {i} = {tabla * i}')"
      ],
      "metadata": {
        "colab": {
          "base_uri": "https://localhost:8080/"
        },
        "id": "GsSpppbv1J8t",
        "outputId": "cde3abe8-6c7d-46b7-b544-8a9bd965b4e7"
      },
      "execution_count": null,
      "outputs": [
        {
          "output_type": "stream",
          "name": "stdout",
          "text": [
            "Digite la tabla que desea ver: 9\n",
            "La tabla del 9 es :\n",
            "9 x 1 = 9\n",
            "9 x 2 = 18\n",
            "9 x 3 = 27\n",
            "9 x 4 = 36\n",
            "9 x 5 = 45\n",
            "9 x 6 = 54\n",
            "9 x 7 = 63\n",
            "9 x 8 = 72\n",
            "9 x 9 = 81\n",
            "9 x 10 = 90\n"
          ]
        }
      ]
    },
    {
      "cell_type": "markdown",
      "source": [
        "7 - Los números primos tienen diversas aplicaciones en Ciencia de Datos, como en criptografía y seguridad. Un número primo es aquel que es divisible solo por sí mismo y por 1. Por lo tanto, crea un programa que solicite un número entero y determine si es un número primo o no.\n"
      ],
      "metadata": {
        "id": "jnnBiqgN1ICH"
      }
    },
    {
      "cell_type": "code",
      "source": [
        "numero = int(input('Digite un numero: '))\n",
        "contador = 0\n",
        "for i in range(2, numero):\n",
        "  if numero %  i == 0:\n",
        "    contador += 1\n",
        "    break\n",
        "\n",
        "if contador == 0:\n",
        "  print(f'{numero} es un numero primo')\n",
        "else:\n",
        "  print(f'{numero} no es un numero primo')"
      ],
      "metadata": {
        "colab": {
          "base_uri": "https://localhost:8080/"
        },
        "id": "DCDGjCHF2IPg",
        "outputId": "864119a7-a70a-48d5-be36-ce7b5e6a543e"
      },
      "execution_count": null,
      "outputs": [
        {
          "output_type": "stream",
          "name": "stdout",
          "text": [
            "Digite un numero: 2\n",
            "2 es un numero primo\n"
          ]
        }
      ]
    },
    {
      "cell_type": "markdown",
      "source": [
        "8 - Vamos a comprender la distribución de edades de los pensionistas de una empresa de seguros. Escribe un programa que lea las edades de una cantidad no informada de clientes y muestre la distribución en los intervalos [0-25], [26-50], [51-75] y [76-100]. La entrada de datos se detendrá al ingresar un número negativo.\n"
      ],
      "metadata": {
        "id": "eRM3V0mr1rLJ"
      }
    },
    {
      "cell_type": "code",
      "source": [
        "edad = int(input('Ingrese su edad: '))\n",
        "grupo1 = 0\n",
        "grupo2 = 0\n",
        "grupo3 = 0\n",
        "grupo4 = 0\n",
        "\n",
        "\n",
        "while edad >= 0:\n",
        "  if 0 <= edad <= 25:\n",
        "    grupo1 += 1\n",
        "  elif 26 <= edad <= 50:\n",
        "    grupo2 += 1\n",
        "  elif 51 <= edad <= 75:\n",
        "    grupo3 += 1\n",
        "  elif 76 <= edad <= 100:\n",
        "    grupo4 += 1\n",
        "  edad = int(input('Ingrese su edad: '))\n",
        "\n",
        "print(f'La distribucion de los grupos es la siguiente: ')\n",
        "print(f'Grupo 1: {grupo1}')\n",
        "print(f'Grupo 2: {grupo2}')\n",
        "print(f'Grupo 3: {grupo3}')\n",
        "print(f'Grupo 4: {grupo4}')\n"
      ],
      "metadata": {
        "colab": {
          "base_uri": "https://localhost:8080/"
        },
        "id": "Qfl65y9r29gu",
        "outputId": "a01b096e-25da-4382-bf62-55b949ed8d1f"
      },
      "execution_count": null,
      "outputs": [
        {
          "output_type": "stream",
          "name": "stdout",
          "text": [
            "Ingrese su edad: 8\n",
            "Ingrese su edad: 5\n",
            "Ingrese su edad: 9\n",
            "Ingrese su edad: 25\n",
            "Ingrese su edad: 26\n",
            "Ingrese su edad: 65\n",
            "Ingrese su edad: 78\n",
            "Ingrese su edad: 100\n",
            "Ingrese su edad: 56\n",
            "Ingrese su edad: 98\n",
            "Ingrese su edad: 45\n",
            "Ingrese su edad: 35\n",
            "Ingrese su edad: 21\n",
            "Ingrese su edad: 45\n",
            "Ingrese su edad: 78\n",
            "Ingrese su edad: 96\n",
            "Ingrese su edad: -5\n",
            "La distribucion de los grupos es la siguiente: \n",
            "Grupo 1: 5\n",
            "Grupo 2: 4\n",
            "Grupo 3: 2\n",
            "Grupo 4: 5\n"
          ]
        }
      ]
    },
    {
      "cell_type": "markdown",
      "source": [
        "9 - En una elección para la gerencia de una empresa con 20 empleados, hay cuatro candidatos. Escribe un programa que calcule al ganador de la elección. La votación se realizó de la siguiente manera:\n",
        "\n",
        "Cada empleado votó por uno de los cuatro candidatos (representados por los números 1, 2, 3 y 4).\n",
        "\n",
        "También se contaron los votos nulos (representados por el número 5) y los votos en blanco (representados por el número 6).\n",
        "\n",
        "Al final de la votación, el programa debe mostrar el número total de votos para cada candidato, los votos nulos y los votos en blanco. Además, debe calcular y mostrar el porcentaje de votos nulos con respecto al total de votos y el porcentaje de votos en blanco con respecto al total de votos."
      ],
      "metadata": {
        "id": "z9xk7Xwk2srT"
      }
    },
    {
      "cell_type": "code",
      "source": [
        "candidato_1 = 0\n",
        "candidato_2 = 0\n",
        "candidato_3 = 0\n",
        "candidato_4 = 0\n",
        "voto_nulo = 0\n",
        "voto_blanco = 0\n",
        "\n",
        "for i in range(20):\n",
        "  voto = int(input('Digite su voto: '))\n",
        "  if voto == 1:\n",
        "    candidato_1 += 1\n",
        "  elif voto == 2:\n",
        "    candidato_2 += 1\n",
        "  elif voto == 3:\n",
        "    candidato_3 += 1\n",
        "  elif voto == 4:\n",
        "    candidato_4 += 1\n",
        "  elif voto == 5:\n",
        "    voto_nulo += 1\n",
        "  elif voto == 6:\n",
        "    voto_blanco += 1\n",
        "  else:\n",
        "    print('Voto no valido')\n",
        "\n",
        "porcentaje_nulos = (voto_nulo / 20) * 100\n",
        "porcentaje_blanco = (voto_blanco / 20) * 100\n",
        "\n",
        "print(f'El candidato 1 obtuvo {candidato_1} votos')\n",
        "print(f'El candidato 2 obtuvo {candidato_2} votos')\n",
        "print(f'El candidato 3 obtuvo {candidato_3} votos')\n",
        "print(f'El candidato 4 obtuvo {candidato_4} votos')\n",
        "print(f'Los votos nulos fueron {voto_nulo} votos')\n",
        "print(f'Los votos en blanco fueron {voto_blanco} votos')\n",
        "print(f'El porcentaje de votos nulos es {porcentaje_nulos}%')\n",
        "print(f'El porcentaje de votos en blanco es {porcentaje_blanco}%')\n"
      ],
      "metadata": {
        "colab": {
          "base_uri": "https://localhost:8080/"
        },
        "id": "NosAsxC94v1Y",
        "outputId": "7461e6ce-32fc-441b-8aa8-2acb28aaecb0"
      },
      "execution_count": null,
      "outputs": [
        {
          "output_type": "stream",
          "name": "stdout",
          "text": [
            "Digite su voto: 5\n",
            "Digite su voto: 5\n",
            "Digite su voto: 5\n",
            "Digite su voto: 6\n",
            "Digite su voto: 6\n",
            "Digite su voto: 3\n",
            "Digite su voto: 1\n",
            "Digite su voto: 5\n",
            "Digite su voto: 1\n",
            "Digite su voto: 2\n",
            "Digite su voto: 2\n",
            "Digite su voto: 4\n",
            "Digite su voto: 4\n",
            "Digite su voto: 3\n",
            "Digite su voto: 3\n",
            "Digite su voto: 1\n",
            "Digite su voto: 4\n",
            "Digite su voto: 2\n",
            "Digite su voto: 3\n",
            "Digite su voto: 5\n",
            "El candidato 1 obtuvo 3 votos\n",
            "El candidato 2 obtuvo 3 votos\n",
            "El candidato 3 obtuvo 4 votos\n",
            "El candidato 4 obtuvo 3 votos\n",
            "Los votos nulos fueron 5 votos\n",
            "Los votos en blanco fueron 2 votos\n",
            "El porcentaje de votos nulos es 25.0%\n",
            "El porcentaje de votos en blanco es 10.0%\n"
          ]
        }
      ]
    },
    {
      "cell_type": "markdown",
      "source": [
        "# Estructuras de datos"
      ],
      "metadata": {
        "id": "8noP8OJ0Vhux"
      }
    },
    {
      "cell_type": "markdown",
      "source": [
        "Un conjunto de elementos es una colección de items, que son almacenados juntos de manera organizada. Algunos ejemplos de conjuntos de elementos en Python son las listas, los strings y los diccionarios."
      ],
      "metadata": {
        "id": "xpEUkefTu8fY"
      }
    },
    {
      "cell_type": "markdown",
      "source": [
        "## Listas"
      ],
      "metadata": {
        "id": "THSg4KYLwxIb"
      }
    },
    {
      "cell_type": "markdown",
      "source": [
        "Las listas pueden almacenar una colección de items en orden. Ellas son delimitadas por corchetes `[]` y sus elementos son separados por comas.\n",
        "\n",
        "Estas pueden almacenar cualquier tipo de items, incluyendo números, strings, objetos, otras listas, entre otros. También nos permiten almacenar items de tipos de datos diferentes juntos en una única lista."
      ],
      "metadata": {
        "id": "dzpsiqrOyJcK"
      }
    },
    {
      "cell_type": "code",
      "source": [
        "lista = ['Penélope Camacho',9.5,9.0,9.7,True]\n",
        "lista"
      ],
      "metadata": {
        "id": "DO3TBj7nAYeG",
        "colab": {
          "base_uri": "https://localhost:8080/"
        },
        "outputId": "e102497d-9f33-46ba-f577-eb26c88b9cc2"
      },
      "execution_count": null,
      "outputs": [
        {
          "output_type": "execute_result",
          "data": {
            "text/plain": [
              "['Penélope Camacho', 9.5, 9.0, 9.7, True]"
            ]
          },
          "metadata": {},
          "execution_count": 14
        }
      ]
    },
    {
      "cell_type": "code",
      "source": [],
      "metadata": {
        "id": "DO2ubP9N9D_2"
      },
      "execution_count": null,
      "outputs": []
    },
    {
      "cell_type": "markdown",
      "source": [
        "Las listas son organizadas en Python porque **cada elemento de la lista tiene un índice que indica su posición al interior de la lista**. Los índices comienzan en 0 van hasta el tamaño de la lista menos 1."
      ],
      "metadata": {
        "id": "qUz3sJNl6LgK"
      }
    },
    {
      "cell_type": "markdown",
      "source": [
        "Tenemos entonces 5 elementos con índices que varían de 0 a 4, ordenadamente:\n",
        "\n",
        "```\n",
        "#             [0]           [1]   [2]   [3]    [4]\n",
        "lista = ['Penélope Camacho', 9.5 , 9.0 , 9.7 , True]\n",
        "```\n",
        "\n",
        "En Python tenemos también los índices **negativos** que se inician en el último elemento con el valor de `-1` y avanzan en el universo de los negativos hasta llegar al 1° elemento:\n",
        "\n",
        "```\n",
        "#             [-5]         [-4]  [-3]  [-2]   [-1]\n",
        "lista = ['Penélope Camacho', 9.5 , 9.0 , 9.7 , True]\n",
        "```\n",
        "\n",
        "Logramos seleccionar separadamente cada elemento a través de sus respectivos índices. Colocando el nombre de la lista y en seguida el índice que será seleccionado."
      ],
      "metadata": {
        "id": "rLf-Qg526hFD"
      }
    },
    {
      "cell_type": "code",
      "source": [
        "type(lista[0])\n",
        "lista[o]"
      ],
      "metadata": {
        "id": "4hco1Zqy88Kw",
        "colab": {
          "base_uri": "https://localhost:8080/"
        },
        "outputId": "61c952f3-9070-44ae-f0f1-981c9718d0aa"
      },
      "execution_count": null,
      "outputs": [
        {
          "output_type": "execute_result",
          "data": {
            "text/plain": [
              "str"
            ]
          },
          "metadata": {},
          "execution_count": 16
        }
      ]
    },
    {
      "cell_type": "code",
      "source": [],
      "metadata": {
        "id": "M8lH0I2288Ph",
        "colab": {
          "base_uri": "https://localhost:8080/"
        },
        "outputId": "f346f8ba-f00a-4ab2-cd4e-891c6505354e"
      },
      "execution_count": null,
      "outputs": [
        {
          "output_type": "stream",
          "name": "stdout",
          "text": [
            "Penélope Camacho\n",
            "9.5\n",
            "9.0\n",
            "9.7\n",
            "True\n"
          ]
        }
      ]
    },
    {
      "cell_type": "markdown",
      "source": [
        "Una forma más dinámica de trabajar item a item en una lista es utilizando un lazo `for` para leer un elemento a la vez."
      ],
      "metadata": {
        "id": "6TaE1ijmBTCd"
      }
    },
    {
      "cell_type": "code",
      "source": [
        "for elemento in lista:\n",
        "  print(elemento)"
      ],
      "metadata": {
        "id": "rBx4Yu1786Sy",
        "colab": {
          "base_uri": "https://localhost:8080/"
        },
        "outputId": "3fd535bc-cbbc-4f8d-de0f-d98232621eff"
      },
      "execution_count": null,
      "outputs": [
        {
          "output_type": "stream",
          "name": "stdout",
          "text": [
            "Penélope Camacho\n",
            "9.5\n",
            "9.0\n",
            "9.7\n",
            "True\n"
          ]
        }
      ]
    },
    {
      "cell_type": "markdown",
      "source": [
        "**Situación**: La nota `9.0` de Penélope necesita ser ajustada pues ganó 1 punto en su última nota por participación en clase. Entonces es necesario realizar un cambio en el índice `2` de `9.0` a `10.0`."
      ],
      "metadata": {
        "id": "Dh1_HnIVvucY"
      }
    },
    {
      "cell_type": "code",
      "source": [
        "lista[2] = 10.0"
      ],
      "metadata": {
        "id": "bVPoZg668z3T"
      },
      "execution_count": null,
      "outputs": []
    },
    {
      "cell_type": "code",
      "source": [],
      "metadata": {
        "id": "OWA0rYcUdBhf"
      },
      "execution_count": null,
      "outputs": []
    },
    {
      "cell_type": "code",
      "source": [],
      "metadata": {
        "id": "Jo_PBQ0g8z7D",
        "colab": {
          "base_uri": "https://localhost:8080/"
        },
        "outputId": "d0552c73-c8bc-4296-830e-59bb51804870"
      },
      "execution_count": null,
      "outputs": [
        {
          "output_type": "execute_result",
          "data": {
            "text/plain": [
              "9.733333333333333"
            ]
          },
          "metadata": {},
          "execution_count": 22
        }
      ]
    },
    {
      "cell_type": "markdown",
      "source": [
        "También podemos calcular el promedio del estudiante a partir de los datos que tenemos."
      ],
      "metadata": {
        "id": "53XduzXkycAf"
      }
    },
    {
      "cell_type": "code",
      "source": [
        "lista\n",
        "promedio = (lista[1] + lista[2] + lista[3])/3\n",
        "promedio"
      ],
      "metadata": {
        "id": "SIH61Rrb8yv4",
        "colab": {
          "base_uri": "https://localhost:8080/"
        },
        "outputId": "84cf862b-6e9b-4787-ab6d-8c1f64f235fc"
      },
      "execution_count": null,
      "outputs": [
        {
          "output_type": "execute_result",
          "data": {
            "text/plain": [
              "9.733333333333333"
            ]
          },
          "metadata": {},
          "execution_count": 23
        }
      ]
    },
    {
      "cell_type": "markdown",
      "source": [
        "## Manipulación de listas\n",
        "\n",
        "Las listas son muy útiles en Python porque nos permiten almacenar y acceder a una colección de items de manera organizada y rápida. Estas también ofrecen muchos métodos útiles para manipular los itens almacenados, como adicionar, remover, clasificar y buscar elementos."
      ],
      "metadata": {
        "id": "d-iYr10-y4qw"
      }
    },
    {
      "cell_type": "markdown",
      "source": [
        "#### Cantidad de elementos\n",
        "\n",
        "Usamos la función [`len()`](https://docs.python.org/3/library/functions.html#len) para descubrir la cantidad de elementos de un conjunto."
      ],
      "metadata": {
        "id": "ZLqx9A97XVB_"
      }
    },
    {
      "cell_type": "code",
      "source": [
        "len(lista)"
      ],
      "metadata": {
        "id": "6q1Tmm7P8wQf",
        "colab": {
          "base_uri": "https://localhost:8080/"
        },
        "outputId": "6b9f1248-76ce-4fbe-cfce-b21c0dbc6de5"
      },
      "execution_count": null,
      "outputs": [
        {
          "output_type": "execute_result",
          "data": {
            "text/plain": [
              "5"
            ]
          },
          "metadata": {},
          "execution_count": 24
        }
      ]
    },
    {
      "cell_type": "markdown",
      "source": [
        "#### Partición\n",
        "\n",
        "La partición de listas por indexación en Python es una técnica muy útil para seleccionar un subconjunto de elementos de una lista. Esta se realiza usando la sintaxis `lista[inicio:fin]`, donde `inicio` es el índice del primer elemento que será incluído en la partición `fin` es el índice del primer elemento que será excluído de la partición."
      ],
      "metadata": {
        "id": "Z5tpstlHJss3"
      }
    },
    {
      "cell_type": "code",
      "source": [
        "lista[0:2]"
      ],
      "metadata": {
        "id": "NctvJTTU8uV9",
        "colab": {
          "base_uri": "https://localhost:8080/"
        },
        "outputId": "43daaa9d-d026-419e-f417-980e9b452cfb"
      },
      "execution_count": null,
      "outputs": [
        {
          "output_type": "execute_result",
          "data": {
            "text/plain": [
              "['Penélope Camacho', 9.5]"
            ]
          },
          "metadata": {},
          "execution_count": 25
        }
      ]
    },
    {
      "cell_type": "code",
      "source": [
        "lista[:3]"
      ],
      "metadata": {
        "id": "bQZUwldj8uY2",
        "colab": {
          "base_uri": "https://localhost:8080/"
        },
        "outputId": "5def3be0-1e35-4a24-a5fa-cca91d636d6b"
      },
      "execution_count": null,
      "outputs": [
        {
          "output_type": "execute_result",
          "data": {
            "text/plain": [
              "['Penélope Camacho', 9.5, 10.0]"
            ]
          },
          "metadata": {},
          "execution_count": 26
        }
      ]
    },
    {
      "cell_type": "code",
      "source": [
        "lista[3:]"
      ],
      "metadata": {
        "colab": {
          "base_uri": "https://localhost:8080/"
        },
        "id": "ZUl5bgXytbO7",
        "outputId": "61f37ce3-7164-4e7f-befa-cbe642d3431e"
      },
      "execution_count": null,
      "outputs": [
        {
          "output_type": "execute_result",
          "data": {
            "text/plain": [
              "[9.7, True]"
            ]
          },
          "metadata": {},
          "execution_count": 27
        }
      ]
    },
    {
      "cell_type": "code",
      "source": [],
      "metadata": {
        "id": "jCktF5RZtg8U"
      },
      "execution_count": null,
      "outputs": []
    },
    {
      "cell_type": "markdown",
      "source": [
        "#### [`append()`](https://docs.python.org/3/tutorial/datastructures.html#:~:text=of%20list%20objects%3A-,list.append(x),-Add%20an%20item)\n",
        "\n",
        "Añade un elemento al final de la lista."
      ],
      "metadata": {
        "id": "O0RRyabkRzZC"
      }
    },
    {
      "cell_type": "code",
      "source": [
        "lista.append(promedio)\n",
        "lista"
      ],
      "metadata": {
        "id": "_Q0oODwa8spC",
        "colab": {
          "base_uri": "https://localhost:8080/"
        },
        "outputId": "828abf34-b764-4348-caeb-48f72b2bb5e4"
      },
      "execution_count": null,
      "outputs": [
        {
          "output_type": "execute_result",
          "data": {
            "text/plain": [
              "['Penélope Camacho',\n",
              " 9.5,\n",
              " 10.0,\n",
              " 9.7,\n",
              " True,\n",
              " 9.733333333333333,\n",
              " 9.733333333333333]"
            ]
          },
          "metadata": {},
          "execution_count": 29
        }
      ]
    },
    {
      "cell_type": "code",
      "source": [],
      "metadata": {
        "id": "RM894r2M8sse"
      },
      "execution_count": null,
      "outputs": []
    },
    {
      "cell_type": "markdown",
      "source": [
        "#### [`extend()`](https://docs.python.org/3/tutorial/datastructures.html#:~:text=list.extend(iterable))\n",
        "\n",
        "Añade varios elementos al final de la lista.\n",
        "\n",
        "Añadiremos las notas `[10.0,8.0,9.0]` En la lista de Penélope Camacho."
      ],
      "metadata": {
        "id": "uQV91XMsUOJD"
      }
    },
    {
      "cell_type": "code",
      "source": [
        "lista.extend([10.0,8.0,9.0])\n",
        "lista"
      ],
      "metadata": {
        "id": "6Zk2MpMw8rQc",
        "colab": {
          "base_uri": "https://localhost:8080/"
        },
        "outputId": "bb6764d0-99a4-4faf-b61e-c2de8a584fb2"
      },
      "execution_count": null,
      "outputs": [
        {
          "output_type": "execute_result",
          "data": {
            "text/plain": [
              "['Penélope Camacho',\n",
              " 9.5,\n",
              " 10.0,\n",
              " 9.7,\n",
              " True,\n",
              " 9.733333333333333,\n",
              " 9.733333333333333,\n",
              " 10.0,\n",
              " 8.0,\n",
              " 9.0]"
            ]
          },
          "metadata": {},
          "execution_count": 30
        }
      ]
    },
    {
      "cell_type": "code",
      "source": [],
      "metadata": {
        "id": "NnoKkoWb8rTQ"
      },
      "execution_count": null,
      "outputs": []
    },
    {
      "cell_type": "markdown",
      "source": [
        "*A continuación te mostraremos lo que no puede realizarse con* `append`."
      ],
      "metadata": {
        "id": "IVJvkTwNUk6M"
      }
    },
    {
      "cell_type": "code",
      "source": [
        "lista.append([10.0,8.0,9.0])\n",
        "lista"
      ],
      "metadata": {
        "id": "u3Eub2ZL8pp3",
        "colab": {
          "base_uri": "https://localhost:8080/"
        },
        "outputId": "1f9163d0-9321-4d05-e875-2ab874edb34e"
      },
      "execution_count": null,
      "outputs": [
        {
          "output_type": "execute_result",
          "data": {
            "text/plain": [
              "['Penélope Camacho',\n",
              " 9.5,\n",
              " 10.0,\n",
              " 9.7,\n",
              " True,\n",
              " 9.733333333333333,\n",
              " 9.733333333333333,\n",
              " 10.0,\n",
              " 8.0,\n",
              " 9.0,\n",
              " [10.0, 8.0, 9.0]]"
            ]
          },
          "metadata": {},
          "execution_count": 34
        }
      ]
    },
    {
      "cell_type": "code",
      "source": [],
      "metadata": {
        "id": "tsKK5Ne58pvN"
      },
      "execution_count": null,
      "outputs": []
    },
    {
      "cell_type": "markdown",
      "source": [
        "#### [`remove()`](https://docs.python.org/3/tutorial/datastructures.html#:~:text=append(x).-,list.remove(x),-Remove%20the%20first)\n",
        "\n",
        "Remueve un elemento específico de la lista."
      ],
      "metadata": {
        "id": "dPGM5gpyUX1z"
      }
    },
    {
      "cell_type": "code",
      "source": [
        "lista.remove([10.0, 8.0, 9.0])\n",
        "lista"
      ],
      "metadata": {
        "id": "mmboODPc8nd5",
        "colab": {
          "base_uri": "https://localhost:8080/"
        },
        "outputId": "844eba9f-ff75-4444-9ab8-13bb2d5c268a"
      },
      "execution_count": null,
      "outputs": [
        {
          "output_type": "execute_result",
          "data": {
            "text/plain": [
              "['Penélope Camacho',\n",
              " 9.5,\n",
              " 10.0,\n",
              " 9.7,\n",
              " True,\n",
              " 9.733333333333333,\n",
              " 9.733333333333333,\n",
              " 10.0,\n",
              " 8.0,\n",
              " 9.0]"
            ]
          },
          "metadata": {},
          "execution_count": 35
        }
      ]
    },
    {
      "cell_type": "code",
      "source": [],
      "metadata": {
        "id": "T_w6vVgV8nh_"
      },
      "execution_count": null,
      "outputs": []
    },
    {
      "cell_type": "markdown",
      "source": [
        "## Diccionario"
      ],
      "metadata": {
        "id": "Rc22Vc08YDZ2"
      }
    },
    {
      "cell_type": "markdown",
      "source": [
        "Los diccionarios son un tipo de estructura de datos que almacenan pares de *llave-valor*. Estos son delimitados por llaves `{}` y los pares *llave-valor* son separados por comas.\n",
        "\n",
        "```\n",
        "diccionario = {llave: valor}\n",
        "```\n",
        "\n",
        "La **llave** es un elemento único que identifica a un valor en el diccionario, mientras que el **valor** es el item que será almacenado para la llave. Las llaves y sus respectivos valores se pueden emplear para **cualquier tipo de dato**.\n",
        "\n",
        "Los diccionarios son útiles para almacenar y acceder a los datos de manera organizada y rápida. Se trata de un tipo de conjunto de elementos en Python, pues almacenan una colección de items."
      ],
      "metadata": {
        "id": "PJ-cCKPjeWxL"
      }
    },
    {
      "cell_type": "code",
      "source": [
        "diccionario = { 'llave_1': 1,\n",
        "               'llave_2': 2}\n",
        "diccionario"
      ],
      "metadata": {
        "id": "NDHhzooE8ld5",
        "colab": {
          "base_uri": "https://localhost:8080/"
        },
        "outputId": "ed601a00-7dd3-4170-ab68-876192cb20be"
      },
      "execution_count": null,
      "outputs": [
        {
          "output_type": "execute_result",
          "data": {
            "text/plain": [
              "{'llave_1': 1, 'llave_2': 2}"
            ]
          },
          "metadata": {},
          "execution_count": 36
        }
      ]
    },
    {
      "cell_type": "code",
      "source": [],
      "metadata": {
        "id": "AVOzqzy-8lhh"
      },
      "execution_count": null,
      "outputs": []
    },
    {
      "cell_type": "markdown",
      "source": [
        "---\n",
        "**Situación:**\n",
        "\n",
        "Vamos a crear un conjunto de datos con las informaciones de matrícula de un estudiante. Los datos son los siguientes:\n",
        "\n",
        "- matrícula: 2000168933\n",
        "- día de registro: 25\n",
        "- mes de registro: 10\n",
        "- grupo: 2E"
      ],
      "metadata": {
        "id": "_JbQ3KMKfkXU"
      }
    },
    {
      "cell_type": "code",
      "source": [
        "estudiante = {\n",
        "    'matricula': 2000168933,\n",
        "    'dia_registro': 25,\n",
        "    'mes_registro': 10,\n",
        "    'grupo': '2E'\n",
        "}\n",
        "estudiante"
      ],
      "metadata": {
        "id": "0lfOu_c38jED",
        "colab": {
          "base_uri": "https://localhost:8080/"
        },
        "outputId": "56e08953-05b6-4421-d3bd-170068980186"
      },
      "execution_count": null,
      "outputs": [
        {
          "output_type": "execute_result",
          "data": {
            "text/plain": [
              "{'matricula': 2000168933,\n",
              " 'dia_registro': 25,\n",
              " 'mes_registro': 10,\n",
              " 'grupo': '2E'}"
            ]
          },
          "metadata": {},
          "execution_count": 37
        }
      ]
    },
    {
      "cell_type": "code",
      "source": [
        "estudiante['matricula']"
      ],
      "metadata": {
        "id": "XIuqpTTy8jHV",
        "colab": {
          "base_uri": "https://localhost:8080/"
        },
        "outputId": "64804f2b-e779-44a5-fabe-16d32f4ab443"
      },
      "execution_count": null,
      "outputs": [
        {
          "output_type": "execute_result",
          "data": {
            "text/plain": [
              "2000168933"
            ]
          },
          "metadata": {},
          "execution_count": 38
        }
      ]
    },
    {
      "cell_type": "code",
      "source": [
        "estudiante['grupo']"
      ],
      "metadata": {
        "colab": {
          "base_uri": "https://localhost:8080/",
          "height": 36
        },
        "id": "RJhIdTrivBPn",
        "outputId": "83059f74-107d-4ed0-84b2-38c4eebfef88"
      },
      "execution_count": null,
      "outputs": [
        {
          "output_type": "execute_result",
          "data": {
            "text/plain": [
              "'2E'"
            ],
            "application/vnd.google.colaboratory.intrinsic+json": {
              "type": "string"
            }
          },
          "metadata": {},
          "execution_count": 39
        }
      ]
    },
    {
      "cell_type": "code",
      "source": [],
      "metadata": {
        "colab": {
          "base_uri": "https://localhost:8080/"
        },
        "id": "QMfv8vkEvFmg",
        "outputId": "171245f2-30b5-4edd-8c38-c4aae8b0d549"
      },
      "execution_count": null,
      "outputs": [
        {
          "output_type": "execute_result",
          "data": {
            "text/plain": [
              "{'matricula': 2000168933,\n",
              " 'dia_registro': 25,\n",
              " 'mes_registro': 10,\n",
              " 'grupo': '2G'}"
            ]
          },
          "metadata": {},
          "execution_count": 40
        }
      ]
    },
    {
      "cell_type": "markdown",
      "source": [
        "Es posible sustituir los valores dentro de una llave. Por ejemplo, recibimos la información de que el grupo del estudiante que registramos cambio a `'2G'` y ahora necesitamos cambiar el valor de la llave `'grupo'`."
      ],
      "metadata": {
        "id": "8ex5pt2ykDd2"
      }
    },
    {
      "cell_type": "code",
      "source": [
        "estudiante['grupo'] = '2G'\n",
        "estudiante"
      ],
      "metadata": {
        "id": "kQGlp36b8fyP",
        "colab": {
          "base_uri": "https://localhost:8080/"
        },
        "outputId": "22d6e03d-f4af-4582-f647-fc51058ba7e0"
      },
      "execution_count": null,
      "outputs": [
        {
          "output_type": "execute_result",
          "data": {
            "text/plain": [
              "{'matricula': 2000168933,\n",
              " 'dia_registro': 25,\n",
              " 'mes_registro': 10,\n",
              " 'grupo': '2G'}"
            ]
          },
          "metadata": {},
          "execution_count": 41
        }
      ]
    },
    {
      "cell_type": "code",
      "source": [],
      "metadata": {
        "id": "DnfH_qHi8f17"
      },
      "execution_count": null,
      "outputs": []
    },
    {
      "cell_type": "markdown",
      "source": [
        "También podemos añadir otros datos al diccionario. Vamos a añadir la información sobre la modalidad de estudio, nuestro estudiante estudiará inicialemente en la modalidad EAD.\n",
        "\n",
        "Definiremos una llave llamada `'modalidad'` con el valor `'EAD'`."
      ],
      "metadata": {
        "id": "wB0qRb56mQvv"
      }
    },
    {
      "cell_type": "code",
      "source": [
        "estudiante[\"modalidad\"] = \"EAD\"\n",
        "estudiante"
      ],
      "metadata": {
        "id": "EeLYdlIm8d8a",
        "colab": {
          "base_uri": "https://localhost:8080/"
        },
        "outputId": "994f3a9f-1a5a-468f-f33d-1e25129bf8f5"
      },
      "execution_count": null,
      "outputs": [
        {
          "output_type": "execute_result",
          "data": {
            "text/plain": [
              "{'matricula': 2000168933,\n",
              " 'dia_registro': 25,\n",
              " 'mes_registro': 10,\n",
              " 'grupo': '2G',\n",
              " 'modalidad': 'EAD'}"
            ]
          },
          "metadata": {},
          "execution_count": 42
        }
      ]
    },
    {
      "cell_type": "code",
      "source": [
        "len(estudiante)"
      ],
      "metadata": {
        "id": "olDIavsm8d_o",
        "colab": {
          "base_uri": "https://localhost:8080/"
        },
        "outputId": "7fe183c7-c20b-40a8-b8d0-8615e68ba000"
      },
      "execution_count": null,
      "outputs": [
        {
          "output_type": "execute_result",
          "data": {
            "text/plain": [
              "5"
            ]
          },
          "metadata": {},
          "execution_count": 43
        }
      ]
    },
    {
      "cell_type": "markdown",
      "source": [
        "## Profundizando en diccionarios"
      ],
      "metadata": {
        "id": "LJ3o_inroxg_"
      }
    },
    {
      "cell_type": "markdown",
      "source": [
        "#### [`pop()`](https://python-reference.readthedocs.io/en/latest/docs/dict/pop.html)\n",
        "Remueve un item de un diccionario y lo representa en la salida."
      ],
      "metadata": {
        "id": "2N3GLlkSpBiu"
      }
    },
    {
      "cell_type": "code",
      "source": [
        "estudiante.pop('grupo')"
      ],
      "metadata": {
        "id": "ZsSCZx6G8b-T",
        "colab": {
          "base_uri": "https://localhost:8080/",
          "height": 36
        },
        "outputId": "1689f2a9-49e1-4bd5-a41b-a5e56e343441"
      },
      "execution_count": null,
      "outputs": [
        {
          "output_type": "execute_result",
          "data": {
            "text/plain": [
              "'2G'"
            ],
            "application/vnd.google.colaboratory.intrinsic+json": {
              "type": "string"
            }
          },
          "metadata": {},
          "execution_count": 44
        }
      ]
    },
    {
      "cell_type": "code",
      "source": [
        "estudiante"
      ],
      "metadata": {
        "id": "7lQ8_jpi8cBR",
        "colab": {
          "base_uri": "https://localhost:8080/"
        },
        "outputId": "e6cc4a7f-0ca4-4626-9b3b-a24b0aa588d2"
      },
      "execution_count": null,
      "outputs": [
        {
          "output_type": "execute_result",
          "data": {
            "text/plain": [
              "{'matricula': 2000168933,\n",
              " 'dia_registro': 25,\n",
              " 'mes_registro': 10,\n",
              " 'modalidad': 'EAD'}"
            ]
          },
          "metadata": {},
          "execution_count": 45
        }
      ]
    },
    {
      "cell_type": "markdown",
      "source": [
        "#### [`items()`](https://python-reference.readthedocs.io/en/latest/docs/dict/items.html)\n",
        "Retorna una lista de pares `llave-valor` del diccionario."
      ],
      "metadata": {
        "id": "sYZGvJJYrW_y"
      }
    },
    {
      "cell_type": "code",
      "source": [
        "estudiante.items()"
      ],
      "metadata": {
        "id": "ncdycLV08an7",
        "colab": {
          "base_uri": "https://localhost:8080/"
        },
        "outputId": "948005a2-9d60-4516-c802-450eace8b50c"
      },
      "execution_count": null,
      "outputs": [
        {
          "output_type": "execute_result",
          "data": {
            "text/plain": [
              "dict_items([('matricula', 2000168933), ('dia_registro', 25), ('mes_registro', 10), ('modalidad', 'EAD')])"
            ]
          },
          "metadata": {},
          "execution_count": 46
        }
      ]
    },
    {
      "cell_type": "markdown",
      "source": [
        "#### [`keys()`](https://python-reference.readthedocs.io/en/latest/docs/dict/keys.html)\n",
        "Retorna una lista de las llaves del diccionario."
      ],
      "metadata": {
        "id": "Lb0utNFGrZBY"
      }
    },
    {
      "cell_type": "code",
      "source": [
        "estudiante.keys()"
      ],
      "metadata": {
        "id": "eZo0biaM8ZVs",
        "colab": {
          "base_uri": "https://localhost:8080/"
        },
        "outputId": "c72fd747-8176-4fd0-ddcf-3f4f100bae5c"
      },
      "execution_count": null,
      "outputs": [
        {
          "output_type": "execute_result",
          "data": {
            "text/plain": [
              "dict_keys(['matricula', 'dia_registro', 'mes_registro', 'modalidad'])"
            ]
          },
          "metadata": {},
          "execution_count": 47
        }
      ]
    },
    {
      "cell_type": "markdown",
      "source": [
        "#### [`values()`](https://python-reference.readthedocs.io/en/latest/docs/dict/values.html)\n",
        "Retorna una lista de los valores del diccionario."
      ],
      "metadata": {
        "id": "qKyu3bf9rbtX"
      }
    },
    {
      "cell_type": "code",
      "source": [
        "estudiante.values()"
      ],
      "metadata": {
        "id": "-NxRT9C18Yvo",
        "colab": {
          "base_uri": "https://localhost:8080/"
        },
        "outputId": "d059ddc6-283a-4039-e817-1c202321c6f2"
      },
      "execution_count": null,
      "outputs": [
        {
          "output_type": "execute_result",
          "data": {
            "text/plain": [
              "dict_values([2000168933, 25, 10, 'EAD'])"
            ]
          },
          "metadata": {},
          "execution_count": 48
        }
      ]
    },
    {
      "cell_type": "markdown",
      "source": [
        "### Lectura de valores con el lazo `for`"
      ],
      "metadata": {
        "id": "e3XVjR8Frp75"
      }
    },
    {
      "cell_type": "code",
      "source": [
        "for llave, valor in estudiante.items():\n",
        "  print(llave,'-->', valor)"
      ],
      "metadata": {
        "id": "NYcjU-Ip8Xan",
        "colab": {
          "base_uri": "https://localhost:8080/"
        },
        "outputId": "f00d6f03-c5d2-4afb-dbd2-f08182041a26"
      },
      "execution_count": null,
      "outputs": [
        {
          "output_type": "stream",
          "name": "stdout",
          "text": [
            "matricula --> 2000168933\n",
            "dia_registro --> 25\n",
            "mes_registro --> 10\n",
            "modalidad --> EAD\n"
          ]
        }
      ]
    },
    {
      "cell_type": "code",
      "source": [],
      "metadata": {
        "id": "aAnpP1Wv8XfJ"
      },
      "execution_count": null,
      "outputs": []
    },
    {
      "cell_type": "markdown",
      "source": [
        "##Ejercicios estructuras##"
      ],
      "metadata": {
        "id": "X75Ce2k5wihe"
      }
    },
    {
      "cell_type": "markdown",
      "source": [
        "1 - Crea un programa que tenga la siguiente lista con los gastos de una empresa de papel [2172.54, 3701.35, 3518.09, 3456.61, 3249.38, 2840.82, 3891.45, 3075.26, 2317.64, 3219.08]. Con estos valores, crea un programa que calcule el promedio de gastos. Sugerencia: usa las funciones integradas sum() y len().\n"
      ],
      "metadata": {
        "id": "qjWNDVjLwsEU"
      }
    },
    {
      "cell_type": "code",
      "source": [
        "gastos = [2172.54, 3701.35, 3518.09, 3456.61, 3249.38, 2840.82, 3891.45, 3075.26, 2317.64, 3219.08]\n",
        "\n",
        "promedio = sum(gastos) / len(gastos)\n",
        "print(f'El promedio de gastos es: {promedio}')"
      ],
      "metadata": {
        "colab": {
          "base_uri": "https://localhost:8080/"
        },
        "id": "RAFnEfFaCmfs",
        "outputId": "4985be2c-2f1f-43ad-f3c9-3988ea654cbe"
      },
      "execution_count": null,
      "outputs": [
        {
          "output_type": "stream",
          "name": "stdout",
          "text": [
            "El promedio de gastos es: 3144.222\n"
          ]
        }
      ]
    },
    {
      "cell_type": "markdown",
      "source": [
        "2 - Con los mismos datos de la pregunta anterior, determina cuántas compras se realizaron por encima de 3000 reales y calcula el porcentaje con respecto al total de compras."
      ],
      "metadata": {
        "id": "WvYEwHBiCkqA"
      }
    },
    {
      "cell_type": "code",
      "source": [
        "total = 0\n",
        "for costo in gastos:\n",
        "  if costo > 3000:\n",
        "    total +=1\n",
        "\n",
        "porcentaje = total * 100 / len(gastos)\n",
        "print(f'El porcentaje de compras por encima de 3000 reales es: {porcentaje}%')"
      ],
      "metadata": {
        "id": "ZGbcLezrwnlU",
        "colab": {
          "base_uri": "https://localhost:8080/"
        },
        "outputId": "45ebd83b-9036-4529-9c41-6a6eb1372e4b"
      },
      "execution_count": null,
      "outputs": [
        {
          "output_type": "stream",
          "name": "stdout",
          "text": [
            "El porcentaje de compras por encima de 3000 reales es: 70.0%\n"
          ]
        }
      ]
    },
    {
      "cell_type": "markdown",
      "source": [
        "3 - Crea un código que recoja en una lista 5 números enteros aleatorios e imprima la lista. Ejemplo: [1, 4, 7, 2, 4].\n",
        "\n"
      ],
      "metadata": {
        "id": "mC2LTHw9DeqW"
      }
    },
    {
      "cell_type": "code",
      "source": [
        "import random\n",
        "lista = []\n",
        "\n",
        "for i in range(5):\n",
        "  numero = random.randint(1, 10)\n",
        "  lista.append(numero)\n",
        "\n",
        "print(lista)"
      ],
      "metadata": {
        "colab": {
          "base_uri": "https://localhost:8080/"
        },
        "id": "l8SX_3e4De83",
        "outputId": "e752caea-0205-42d3-ec2f-0520962df83c"
      },
      "execution_count": null,
      "outputs": [
        {
          "output_type": "stream",
          "name": "stdout",
          "text": [
            "[7, 1, 10, 9, 9]\n"
          ]
        }
      ]
    },
    {
      "cell_type": "markdown",
      "source": [
        "4 - Recoge nuevamente 5 números enteros e imprime la lista en orden inverso al enviado."
      ],
      "metadata": {
        "id": "WPpvpJBsEHio"
      }
    },
    {
      "cell_type": "code",
      "source": [
        "lista = [6,8,2,78,7]\n",
        "\n",
        "lista.reverse()\n",
        "\n",
        "print(lista)"
      ],
      "metadata": {
        "colab": {
          "base_uri": "https://localhost:8080/"
        },
        "id": "td5qVJkbEH8y",
        "outputId": "81d19037-f7f9-4a79-d95e-3a67eca73dbb"
      },
      "execution_count": null,
      "outputs": [
        {
          "output_type": "stream",
          "name": "stdout",
          "text": [
            "[7, 78, 2, 8, 6]\n"
          ]
        }
      ]
    },
    {
      "cell_type": "markdown",
      "source": [
        "5 - Crea un programa que, al ingresar un número cualquiera, genere una lista que contenga todos los números primos entre 1 y el número ingresado."
      ],
      "metadata": {
        "id": "wQB70q_7FF4V"
      }
    },
    {
      "cell_type": "code",
      "source": [
        "lista = []\n",
        "\n",
        "numero = int(input('Ingrese un numero: '))\n",
        "\n",
        "for i in range(2, numero +1):\n",
        "    conteo = 0\n",
        "    for j in range(2, i + 1):\n",
        "      if i % j == 0:\n",
        "        conteo += 1\n",
        "    if conteo < 2:\n",
        "      lista.append(i)\n",
        "\n",
        "\n",
        "\n",
        "\n",
        "print(lista)"
      ],
      "metadata": {
        "colab": {
          "base_uri": "https://localhost:8080/"
        },
        "id": "BiCMTvmx2FFf",
        "outputId": "e21eaaef-347e-45dc-8042-fc4d96ef37bc"
      },
      "execution_count": null,
      "outputs": [
        {
          "output_type": "stream",
          "name": "stdout",
          "text": [
            "Ingrese un numero: 8\n",
            "[2, 3, 5, 7]\n"
          ]
        }
      ]
    },
    {
      "cell_type": "markdown",
      "source": [
        "6 - Escribe un programa que pida una fecha, especificando el día, mes y año, y determine si es válida para su análisis.\n"
      ],
      "metadata": {
        "id": "HceLKpvt15jK"
      }
    },
    {
      "cell_type": "code",
      "source": [
        "fecha = input('Ingrese una fecha en el formato dd/mm/aaaa: ')\n",
        "\n",
        "dia, mes, año = fecha.split('/')\n",
        "\n",
        "if int(dia) < 1 or int(dia) > 31:\n",
        "  print('Dia invalido')\n",
        "elif int(mes) < 1 or int(mes) > 12:\n",
        "  print('Mes invalido')\n",
        "elif int(año) < 1900 or int(año) > 2025:\n",
        "  print('Año invalido')\n",
        "else:\n",
        "  print('Fecha valida')"
      ],
      "metadata": {
        "colab": {
          "base_uri": "https://localhost:8080/"
        },
        "id": "VmbtKVuJFGZd",
        "outputId": "0f0e77d6-e07e-47d8-8ef4-470fff8e7ec7"
      },
      "execution_count": null,
      "outputs": [
        {
          "output_type": "stream",
          "name": "stdout",
          "text": [
            "Ingrese una fecha en el formato dd/mm/aaaa: 25/03/2025\n",
            "Fecha valida\n"
          ]
        }
      ]
    },
    {
      "cell_type": "code",
      "source": [
        "# prompt: como harias esto en forma de listas : 6 - Escribe un programa que pida una fecha, especificando el día, mes y año, y determine si es válida para su análisis.\n",
        "\n",
        "fecha = input('Ingrese una fecha en el formato dd/mm/aaaa: ')\n",
        "\n",
        "dia, mes, año = fecha.split('/')\n",
        "\n",
        "fecha_valida = True\n",
        "errores = []\n",
        "\n",
        "if not (1 <= int(dia) <= 31):\n",
        "    fecha_valida = False\n",
        "    errores.append('Dia invalido')\n",
        "\n",
        "if not (1 <= int(mes) <= 12):\n",
        "    fecha_valida = False\n",
        "    errores.append('Mes invalido')\n",
        "\n",
        "if not (1900 <= int(año) <= 2025):\n",
        "    fecha_valida = False\n",
        "    errores.append('Año invalido')\n",
        "\n",
        "if fecha_valida:\n",
        "    print('Fecha valida')\n",
        "else:\n",
        "    print('Fecha invalida:', ', '.join(errores))\n"
      ],
      "metadata": {
        "colab": {
          "base_uri": "https://localhost:8080/"
        },
        "id": "REc8LWZK9dXB",
        "outputId": "a039b89c-ac22-4094-cf51-5e8336549bce"
      },
      "execution_count": null,
      "outputs": [
        {
          "output_type": "stream",
          "name": "stdout",
          "text": [
            "Ingrese una fecha en el formato dd/mm/aaaa: 256/25/1365\n",
            "Fecha invalida: Dia invalido, Mes invalido, Año invalido\n"
          ]
        }
      ]
    },
    {
      "cell_type": "markdown",
      "source": [
        "Momento para los proyectos\n",
        "\n",
        "\n",
        "7 - Para un estudio sobre la multiplicación de bacterias en una colonia, se recopiló el número de bacterias multiplicadas por día y se puede observar a continuación: [1.2, 2.1, 3.3, 5.0, 7.8, 11.3, 16.6, 25.1, 37.8, 56.9]. Con estos valores, crea un código que genere una lista que contenga el porcentaje de crecimiento de bacterias por día, comparando el número de bacterias en cada día con el número de bacterias del día anterior. Sugerencia: para calcular el porcentaje de crecimiento, utiliza la siguiente ecuación: 100 * (muestra_actual - muestra_anterior) / muestra_anterior.\n"
      ],
      "metadata": {
        "id": "j4oUn74S8rAL"
      }
    },
    {
      "cell_type": "code",
      "source": [
        "crecimiento_bacterias = [1.2, 2.1, 3.3, 5.0, 7.8, 11.3, 16.6, 25.1, 37.8, 56.9]\n",
        "\n",
        "porcentaje_crecimiento = []\n",
        "\n",
        "for i in range(len(crecimiento_bacterias)):\n",
        "  if i == 0:\n",
        "    porcentaje = 0\n",
        "  else:\n",
        "    muestra_actual = crecimiento_bacterias[i]\n",
        "    muestra_anterior = crecimiento_bacterias[i - 1]\n",
        "    porcentaje = 100 * (muestra_actual - muestra_anterior) / muestra_anterior\n",
        "\n",
        "    porcentaje_crecimiento.append(porcentaje)\n",
        "\n",
        "print(porcentaje_crecimiento)\n"
      ],
      "metadata": {
        "colab": {
          "base_uri": "https://localhost:8080/"
        },
        "id": "eK7F38dJJvRk",
        "outputId": "fe446f25-0b9c-44cd-9b53-5b78c479412a"
      },
      "execution_count": null,
      "outputs": [
        {
          "output_type": "stream",
          "name": "stdout",
          "text": [
            "[75.00000000000001, 57.142857142857125, 51.51515151515153, 56.0, 44.87179487179489, 46.90265486725664, 51.20481927710843, 50.59760956175297, 50.52910052910054]\n"
          ]
        }
      ]
    },
    {
      "cell_type": "markdown",
      "source": [
        "8 - Para una selección de productos alimenticios, debemos separar el conjunto de IDs proporcionados por números enteros, sabiendo que los productos con ID par son dulces y los que tienen ID impar son amargos. Crea un código que recoja 10 IDs. Luego, calcula y muestra la cantidad de productos dulces y amargos."
      ],
      "metadata": {
        "id": "vwYrweuPJvw3"
      }
    },
    {
      "cell_type": "code",
      "source": [
        "productos = []\n",
        "dulces = 0\n",
        "amargos = 0\n",
        "\n",
        "for i in range(10):\n",
        "  id = int(input('Ingrese el ID del producto: '))\n",
        "  productos.append(id)\n",
        "  if id % 2 == 0:\n",
        "    dulces += 1\n",
        "  else:\n",
        "    amargos += 1\n",
        "\n",
        "print(f'La cantidad de productos dulces es: {dulces}')\n",
        "print(f'La cantidad de productos amargos es: {amargos}')\n"
      ],
      "metadata": {
        "colab": {
          "base_uri": "https://localhost:8080/"
        },
        "id": "hdiiTc57MHOC",
        "outputId": "791b6de7-bb8e-4519-8310-59d029ce15e2"
      },
      "execution_count": null,
      "outputs": [
        {
          "output_type": "stream",
          "name": "stdout",
          "text": [
            "Ingrese el ID del producto: 8\n",
            "Ingrese el ID del producto: 7\n",
            "Ingrese el ID del producto: 5\n",
            "Ingrese el ID del producto: 4\n",
            "Ingrese el ID del producto: 39\n",
            "Ingrese el ID del producto: 56\n",
            "Ingrese el ID del producto: 8\n",
            "Ingrese el ID del producto: 14\n",
            "Ingrese el ID del producto: 3\n",
            "Ingrese el ID del producto: 1\n",
            "La cantidad de productos dulces es: 5\n",
            "La cantidad de productos amargos es: 5\n"
          ]
        }
      ]
    },
    {
      "cell_type": "markdown",
      "source": [
        "\n",
        "9 - Desarrolla un programa que informe la puntuación de un estudiante de acuerdo con sus respuestas. Debe pedir la respuesta del estudiante para cada pregunta y verificar si la respuesta coincide con el resultado. Cada pregunta vale un punto y hay opciones A, B, C o D.\n",
        "\n",
        "Resultado del examen:\n",
        "01 - D\n",
        "02 - A\n",
        "03 - C\n",
        "04 - B\n",
        "05 - A\n",
        "06 - D\n",
        "07 - C\n",
        "08 - C\n",
        "09 - A\n",
        "10 - B\n",
        "Copia el código\n"
      ],
      "metadata": {
        "id": "XF_8LlFIMFpt"
      }
    },
    {
      "cell_type": "code",
      "source": [
        "diccionario = {\n",
        "    1 : 'D',\n",
        "    2 : 'A',\n",
        "    3 : 'C',\n",
        "    4 : 'B',\n",
        "    5 : 'A',\n",
        "    6 : 'D',\n",
        "    7 : 'C',\n",
        "    8 : 'C',\n",
        "    9 : 'A',\n",
        "    10 : 'B'\n",
        "}\n",
        "puntaje = 0\n",
        "for i in range(1, 11):\n",
        "  respuesta = input(f'Ingrese la respuesta de la pregunta {i}: ')\n",
        "  if respuesta == diccionario[i]:\n",
        "    print('Respuesta correcta')\n",
        "    puntaje += 1\n",
        "  else:\n",
        "    print('Respuesta incorrecta')\n",
        "\n",
        "print(f'El puntaje del estudiante es: {puntaje}')"
      ],
      "metadata": {
        "colab": {
          "base_uri": "https://localhost:8080/"
        },
        "id": "Y1uxwv1lMFH3",
        "outputId": "e0dd0d76-64d8-4642-8988-6dc7f7b46568"
      },
      "execution_count": null,
      "outputs": [
        {
          "output_type": "stream",
          "name": "stdout",
          "text": [
            "Ingrese la respuesta de la pregunta 1: D\n",
            "Respuesta correcta\n",
            "Ingrese la respuesta de la pregunta 2: A\n",
            "Respuesta correcta\n",
            "Ingrese la respuesta de la pregunta 3: B\n",
            "Respuesta incorrecta\n",
            "Ingrese la respuesta de la pregunta 4: C\n",
            "Respuesta incorrecta\n",
            "Ingrese la respuesta de la pregunta 5: C\n",
            "Respuesta incorrecta\n",
            "Ingrese la respuesta de la pregunta 6: A\n",
            "Respuesta incorrecta\n",
            "Ingrese la respuesta de la pregunta 7: A\n",
            "Respuesta incorrecta\n",
            "Ingrese la respuesta de la pregunta 8: A\n",
            "Respuesta incorrecta\n",
            "Ingrese la respuesta de la pregunta 9: A\n",
            "Respuesta correcta\n",
            "Ingrese la respuesta de la pregunta 10: C\n",
            "Respuesta incorrecta\n",
            "El puntaje del estudiante es: 3\n"
          ]
        }
      ]
    },
    {
      "cell_type": "markdown",
      "source": [
        "10 - Un instituto de meteorología desea realizar un estudio de la temperatura media de cada mes del año. Para ello, debes crear un código que recoja y almacene esas temperaturas medias en una lista. Luego, calcula el promedio anual de las temperaturas y muestra todas las temperaturas por encima del promedio anual y en qué mes ocurrieron, mostrando los meses por su nombre (Enero, Febrero, etc.).\n"
      ],
      "metadata": {
        "id": "zgLWH5qIMyn2"
      }
    },
    {
      "cell_type": "code",
      "source": [
        "temperaturas= []\n",
        "meses = ['Enero', 'Febrero', 'Marzo', 'Abril', 'Mayo', 'Junio', 'Julio', 'Agosto', 'Septiembre', 'Octubre', 'Noviembre', 'Diciembre']\n",
        "for i in range(1, 13):\n",
        "  temperatura = float(input(f'Ingrese la temperatura media del mes {i}: '))\n",
        "  temperaturas.append(temperatura)\n",
        "\n",
        "for i in temperaturas:\n",
        "  if i > sum(temperaturas) / len(temperaturas):\n",
        "    print(f'La temperatura {i} fue mayor al promedio anual')\n",
        "    mes = meses[temperaturas.index(i)]\n",
        "    print(f'El mes en el que ocurrio fue {mes}')\n"
      ],
      "metadata": {
        "id": "o8nrUbzP8riQ",
        "colab": {
          "base_uri": "https://localhost:8080/"
        },
        "outputId": "b401d68f-a813-40fb-d0b9-27a079084d12"
      },
      "execution_count": null,
      "outputs": [
        {
          "output_type": "stream",
          "name": "stdout",
          "text": [
            "Ingrese la temperatura media del mes 1: 14\n",
            "Ingrese la temperatura media del mes 2: 34\n",
            "Ingrese la temperatura media del mes 3: 25\n",
            "Ingrese la temperatura media del mes 4: 22\n",
            "Ingrese la temperatura media del mes 5: 21\n",
            "Ingrese la temperatura media del mes 6: 24\n",
            "Ingrese la temperatura media del mes 7: 33\n",
            "Ingrese la temperatura media del mes 8: 22\n",
            "Ingrese la temperatura media del mes 9: 18\n",
            "Ingrese la temperatura media del mes 10: 17\n",
            "Ingrese la temperatura media del mes 11: 15\n",
            "Ingrese la temperatura media del mes 12: 12\n",
            "La temperatura 34.0 fue mayor al promedio anual\n",
            "El mes en el que ocurrio fue Febrero\n",
            "La temperatura 25.0 fue mayor al promedio anual\n",
            "El mes en el que ocurrio fue Marzo\n",
            "La temperatura 22.0 fue mayor al promedio anual\n",
            "El mes en el que ocurrio fue Abril\n",
            "La temperatura 24.0 fue mayor al promedio anual\n",
            "El mes en el que ocurrio fue Junio\n",
            "La temperatura 33.0 fue mayor al promedio anual\n",
            "El mes en el que ocurrio fue Julio\n",
            "La temperatura 22.0 fue mayor al promedio anual\n",
            "El mes en el que ocurrio fue Abril\n"
          ]
        }
      ]
    },
    {
      "cell_type": "markdown",
      "source": [
        "11 - Una empresa de comercio electrónico está interesada en analizar las ventas de sus productos. Los datos de ventas se han almacenado en un diccionario:\n",
        "\n",
        "{'Producto A': 300, 'Producto B': 80, 'Producto C': 60, 'Producto D': 200, 'Producto E': 250, 'Producto F': 30}\n",
        "Copia el código\n",
        "Escribe un código que calcule el total de ventas y el producto más vendido."
      ],
      "metadata": {
        "id": "C38-kC7VNxzK"
      }
    },
    {
      "cell_type": "code",
      "source": [
        "dicionario = {\n",
        "    'Producto_A': 300,\n",
        "    'Producto_B': 80,\n",
        "    'Producto_C': 60,\n",
        "    'Producto_D': 200,\n",
        "    'Producto_E': 250,\n",
        "    'Producto_F': 30\n",
        "}\n",
        "\n",
        "for producto, ventas in dicionario.items():\n",
        "  print(f'El producto {producto} tuvo {ventas} ventas')\n",
        "\n",
        "total_ventas = sum(dicionario.values())\n",
        "print(f'El total de ventas fue de {total_ventas}')\n",
        "print(f'El producto mas vendido fue :{max(dicionario, key= dicionario.get)} con un valor de {max(dicionario.values())}')"
      ],
      "metadata": {
        "colab": {
          "base_uri": "https://localhost:8080/"
        },
        "id": "-AELo6Z0NyGk",
        "outputId": "88be513f-b17c-434c-a536-555a84ee90db"
      },
      "execution_count": null,
      "outputs": [
        {
          "output_type": "stream",
          "name": "stdout",
          "text": [
            "El producto Producto_A tuvo 300 ventas\n",
            "El producto Producto_B tuvo 80 ventas\n",
            "El producto Producto_C tuvo 60 ventas\n",
            "El producto Producto_D tuvo 200 ventas\n",
            "El producto Producto_E tuvo 250 ventas\n",
            "El producto Producto_F tuvo 30 ventas\n",
            "El total de ventas fue de 920\n",
            "El producto mas vendido fue :Producto_A con un valor de 300\n"
          ]
        }
      ]
    },
    {
      "cell_type": "markdown",
      "source": [
        "\n",
        "12 - Se realizó una encuesta de mercado para decidir cuál diseño de marca infantil es más atractivo para los niños. Los votos de la encuesta se pueden ver a continuación:\n",
        "\n",
        "Tabla de votos de la marca\n",
        "Diseño 1 - 1334 votos\n",
        "Diseño 2 - 982 votos\n",
        "Diseño 3 - 1751 votos\n",
        "Diseño 4 - 210 votos\n",
        "Diseño 5 - 1811 votos\n",
        "Copia el código\n",
        "Adapta los datos proporcionados a una estructura de diccionario. A partir de ello, informa el diseño ganador y el porcentaje de votos recibidos."
      ],
      "metadata": {
        "id": "51UoTVESPO9e"
      }
    },
    {
      "cell_type": "code",
      "source": [
        "diccionario = {\n",
        "    'Diseño_1': 1334,\n",
        "    'Diseño_2': 982,\n",
        "    'Diseño_3': 1751,\n",
        "    'Diseño_4': 210,\n",
        "    'Diseño_5': 181\n",
        "}\n",
        "\n",
        "\n",
        "ganador = max(diccionario, key = diccionario.get)\n",
        "porentaje = diccionario[ganador] / (sum(diccionario.values())) * 100\n",
        "\n",
        "print(f'El diseño ganador fue {ganador} con un porcentaje de {porentaje}%')"
      ],
      "metadata": {
        "colab": {
          "base_uri": "https://localhost:8080/"
        },
        "id": "FXfrc_YGVzRL",
        "outputId": "f7773bc7-8a20-4662-95d0-6d45f1a5b6ae"
      },
      "execution_count": null,
      "outputs": [
        {
          "output_type": "stream",
          "name": "stdout",
          "text": [
            "El diseño ganador fue Diseño_3 con un porcentaje de 39.27770300583221%\n"
          ]
        }
      ]
    },
    {
      "cell_type": "markdown",
      "source": [
        "13 - Los empleados de un departamento de tu empresa recibirán una bonificación del 10% de su salario debido a un excelente rendimiento del equipo. El departamento de finanzas ha solicitado tu ayuda para verificar las consecuencias financieras de esta bonificación en los recursos. Se te ha enviado una lista con los salarios que recibirán la bonificación: [1172, 1644, 2617, 5130, 5532, 6341, 6650, 7238, 7685, 7782, 7903]. La bonificación de cada empleado no puede ser inferior a 200. En el código, convierte cada uno de los salarios en claves de un diccionario y la bonificación de cada salario en el valor correspondiente. Luego, informa el gasto total en bonificaciones, cuántos empleados recibieron la bonificación mínima y cuál fue el valor más alto de la bonificación proporcionada."
      ],
      "metadata": {
        "id": "x9NDaLnZV0qT"
      }
    },
    {
      "cell_type": "code",
      "source": [
        "lista_salarios = [1172, 1644, 2617, 5130, 5532, 6341, 6650, 7238, 7685, 7782, 7903]\n",
        "\n",
        "bonificaciones = {}\n",
        "total_bonifiacion = []\n",
        "boni_minima = 0\n",
        "\n",
        "\n",
        "for salario in lista_salarios:\n",
        "  bonificacion = salario * 0.1\n",
        "  if (bonificacion) < 200:\n",
        "    bonificaciones[salario] = 200\n",
        "    boni_minima += 1\n",
        "    total_bonifiacion.append(200)\n",
        "  else:\n",
        "    bonificaciones[salario] = salario * 0.1\n",
        "    total_bonifiacion.append(salario * 0.1)\n",
        "\n",
        "print(f'El gasto total de bonificaicones es:{sum(total_bonifiacion)}, numero de empleados con bn_min: {boni_minima} y el valor mas alto de boni fue: {max(total_bonifiacion)} ')"
      ],
      "metadata": {
        "colab": {
          "base_uri": "https://localhost:8080/"
        },
        "id": "Kx4b3MQ3V2CW",
        "outputId": "02c0c1b5-f430-4578-9109-54fa6c282f84"
      },
      "execution_count": null,
      "outputs": [
        {
          "output_type": "stream",
          "name": "stdout",
          "text": [
            "El gasto total de bonificaicones es:6087.8, numero de empleados con bn_min: 2 y el valor mas alto de boni fue: 790.3000000000001 \n"
          ]
        }
      ]
    },
    {
      "cell_type": "markdown",
      "source": [
        "14 - Un equipo de científicos de datos está estudiando la diversidad biológica en un bosque. El equipo recopiló información sobre el número de especies de plantas y animales en cada área del bosque y almacenó estos datos en un diccionario. En él, la clave describe el área de los datos y los valores en las listas corresponden a las especies de plantas y animales en esas áreas, respectivamente.\n",
        "\n",
        "{'Área Norte': [2819, 7236], 'Área Leste': [1440, 9492], 'Área Sul': [5969, 7496], 'Área Oeste': [14446, 49688], 'Área Centro': [22558, 45148]}\n",
        "Copia el código\n",
        "Escribe un código para calcular el promedio de especies por área e identificar el área con la mayor diversidad biológica. Sugerencia: utiliza las funciones incorporadas sum() y len()."
      ],
      "metadata": {
        "id": "vuyNMpNEVzrq"
      }
    },
    {
      "cell_type": "code",
      "source": [
        "descripcion = {\n",
        "    'Área_Norte': [2819, 7236],\n",
        "    'Área_Leste': [1440, 9492],\n",
        "    'Área_Sul': [5969, 7496],\n",
        "    'Área_Oeste': [14446, 49688],\n",
        "    'Área_Centro': [22558, 45148]\n",
        "}\n",
        "\n",
        "for area, especies in descripcion.items():\n",
        "  print(f'El area {area} tiene {sum(especies) / len(especies)} especies por area')\n",
        "\n",
        "mayor_diversidad = max(descripcion, key = descripcion.get)\n",
        "print(f'El area con mayor diversidad es: {mayor_diversidad}')"
      ],
      "metadata": {
        "colab": {
          "base_uri": "https://localhost:8080/"
        },
        "id": "OlBKOe_qPPOK",
        "outputId": "d05377fd-6e5f-41c8-bba3-bb398477e932"
      },
      "execution_count": null,
      "outputs": [
        {
          "output_type": "stream",
          "name": "stdout",
          "text": [
            "El area Área_Norte tiene 5027.5 especies por area\n",
            "El area Área_Leste tiene 5466.0 especies por area\n",
            "El area Área_Sul tiene 6732.5 especies por area\n",
            "El area Área_Oeste tiene 32067.0 especies por area\n",
            "El area Área_Centro tiene 33853.0 especies por area\n",
            "El area con mayor diversidad es: Área_Centro\n"
          ]
        }
      ]
    },
    {
      "cell_type": "markdown",
      "source": [
        "15 - El departamento de Recursos Humanos de tu empresa te pidió ayuda para analizar las edades de los colaboradores de 4 sectores de la empresa. Para ello, te proporcionaron los siguientes datos:\n",
        "\n",
        "{'Setor A': [22, 26, 30, 30, 35, 38, 40, 56, 57, 65],\n",
        " 'Setor B': [22, 24, 26, 33, 41, 49, 50, 54, 60, 64],\n",
        " 'Setor C': [23, 26, 26, 29, 34, 35, 36, 41, 52, 56],\n",
        " 'Setor D': [19, 20, 25, 27, 34, 39, 42, 44, 50, 65]}\n",
        "Copia el código\n",
        "Dado que cada sector tiene 10 colaboradores, construye un código que calcule la media de edad de cada sector, la edad media general entre todos los sectores y cuántas personas están por encima de la edad medi\n",
        "a general."
      ],
      "metadata": {
        "id": "3Mka5fiMYaPo"
      }
    },
    {
      "cell_type": "code",
      "source": [
        "sectores = {\n",
        "    'Setor_A': [22, 26, 30, 30, 35, 38, 40, 56, 57, 65],\n",
        "    'Setor B': [22, 24, 26, 33, 41, 49, 50, 54, 60, 64],\n",
        "    'Setor C': [23, 26, 26, 29, 34, 35, 36, 41, 52, 56],\n",
        "    'Setor D': [19, 20, 25, 27, 34, 39, 42, 44, 50, 65]\n",
        "    }\n",
        "\n",
        "persona_mayor = 0\n",
        "media_general = sum([sum(edades) for edades in sectores.values()]) / sum([len(edades) for edades in sectores.values()])\n",
        "for sector, edades in sectores.items():\n",
        "  media_sector = sum(edades) / len(edades)\n",
        "  print(f'El sector {sector} tiene una media de edad de {media_sector}')\n",
        "  for edad in edades:\n",
        "    if edad > media_general:\n",
        "      persona_mayor += 1\n",
        "      print(f'La edad {edad} es mayor a la media general')\n",
        "\n",
        "print(f'La edad media general es de {media_general} y hay {persona_mayor} persona(s) que estan encima de la media')\n"
      ],
      "metadata": {
        "colab": {
          "base_uri": "https://localhost:8080/"
        },
        "id": "e_pFJMhkYZld",
        "outputId": "b9b6ddb7-d50f-469b-bd88-3cf59379de8c"
      },
      "execution_count": null,
      "outputs": [
        {
          "output_type": "stream",
          "name": "stdout",
          "text": [
            "El sector Setor_A tiene una media de edad de 39.9\n",
            "La edad 40 es mayor a la media general\n",
            "La edad 56 es mayor a la media general\n",
            "La edad 57 es mayor a la media general\n",
            "La edad 65 es mayor a la media general\n",
            "El sector Setor B tiene una media de edad de 42.3\n",
            "La edad 41 es mayor a la media general\n",
            "La edad 49 es mayor a la media general\n",
            "La edad 50 es mayor a la media general\n",
            "La edad 54 es mayor a la media general\n",
            "La edad 60 es mayor a la media general\n",
            "La edad 64 es mayor a la media general\n",
            "El sector Setor C tiene una media de edad de 35.8\n",
            "La edad 41 es mayor a la media general\n",
            "La edad 52 es mayor a la media general\n",
            "La edad 56 es mayor a la media general\n",
            "El sector Setor D tiene una media de edad de 36.5\n",
            "La edad 39 es mayor a la media general\n",
            "La edad 42 es mayor a la media general\n",
            "La edad 44 es mayor a la media general\n",
            "La edad 50 es mayor a la media general\n",
            "La edad 65 es mayor a la media general\n",
            "La edad media general es de 38.625 y hay 18 persona(s) que estan encima de la media\n"
          ]
        }
      ]
    },
    {
      "cell_type": "code",
      "source": [],
      "metadata": {
        "id": "9Bm88zBHaVKh"
      },
      "execution_count": null,
      "outputs": []
    }
  ]
}